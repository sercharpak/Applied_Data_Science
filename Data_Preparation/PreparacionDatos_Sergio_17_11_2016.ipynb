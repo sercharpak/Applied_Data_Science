{
 "cells": [
  {
   "cell_type": "markdown",
   "metadata": {},
   "source": [
    "# Preparacion datos\n",
    "\n",
    "## Información proveniente del Portal de Datos Abiertos del Estado Colombiano"
   ]
  },
  {
   "cell_type": "markdown",
   "metadata": {},
   "source": [
    "**Integrantes**\n",
    "\n",
    "- Claudia Viviana Arévalo Bernal\n",
    "- Sergio Daniel Hernández Charpak\n",
    "- Hugo Sin Triana"
   ]
  },
  {
   "cell_type": "code",
   "execution_count": 1,
   "metadata": {
    "collapsed": true
   },
   "outputs": [],
   "source": [
    "import pandas as pd\n",
    "import pandas_profiling\n",
    "import numpy as np\n",
    "import datetime\n",
    "import urllib\n",
    "import platform\n",
    "# from bokeh.plotting import *\n",
    "# from bokeh.models import HoverTool\n",
    "# from collections import OrderedDict"
   ]
  },
  {
   "cell_type": "markdown",
   "metadata": {},
   "source": [
    "#### Librerias"
   ]
  },
  {
   "cell_type": "markdown",
   "metadata": {},
   "source": [
    "#### Localizacion"
   ]
  },
  {
   "cell_type": "code",
   "execution_count": 2,
   "metadata": {
    "collapsed": true
   },
   "outputs": [],
   "source": [
    "donde_estoy = %pwd"
   ]
  },
  {
   "cell_type": "code",
   "execution_count": 3,
   "metadata": {
    "collapsed": false
   },
   "outputs": [
    {
     "name": "stdout",
     "output_type": "stream",
     "text": [
      "/home/laptop/Documentos/LSST/CAD/Entrega_3\n"
     ]
    }
   ],
   "source": [
    "%cd $donde_estoy"
   ]
  },
  {
   "cell_type": "code",
   "execution_count": 4,
   "metadata": {
    "collapsed": true
   },
   "outputs": [],
   "source": [
    "# Parametrización de la cantidad máxima de columnas a mostar para un dataframe\n",
    "pd.get_option(\"display.max_columns\")\n",
    "pd.options.display.max_columns = 40"
   ]
  },
  {
   "cell_type": "markdown",
   "metadata": {},
   "source": [
    "#### Lectura de los datos"
   ]
  },
  {
   "cell_type": "markdown",
   "metadata": {},
   "source": [
    "Mira si esta en Windows o Linux para evitar problemas con la manera en como se accede a carpetas"
   ]
  },
  {
   "cell_type": "code",
   "execution_count": 5,
   "metadata": {
    "collapsed": false
   },
   "outputs": [],
   "source": [
    "plataforma_operativa = platform.system()\n",
    "if(plataforma_operativa=='Windows'):\n",
    "    carpeta_datos = \"PDA\"\n",
    "    archivo_datos = carpeta_datos + r\"\\10_-_SECOP_I_-_2011_2014.csv\"\n",
    "    secop = pd.read_csv(archivo_datos, encoding='utf-8')\n",
    "    archivo_datos_limpio = carpeta_datos + r\"\\10_-_SECOP_I_-_2011_2014_v5.csv\"\n",
    "    perfilamiento_datos_limpios = carpeta_datos + r\"\\Perfilamiento_Datos_SECOP_I_-_2011_2014_v5.html\"\n",
    "elif(plataforma_operativa=='Linux'):\n",
    "    carpeta_datos = \"Datos/Secop_Ano/\"\n",
    "    #archivo_datos = carpeta_datos + \"SECOP_I_-_Consolidado.csv\"\n",
    "    #secop = pd.read_csv(archivo_datos, encoding='utf-8')\n",
    "    #archivo_datos_limpio = carpeta_datos + \"SECOP_I_-_Consolidado_clean.csv\"\n",
    "    #perfilamiento_datos_limpios = carpeta_datos + \"Perfilamiento_Datos_SECOP_I_-__Consolidado_clean.html\""
   ]
  },
  {
   "cell_type": "code",
   "execution_count": 6,
   "metadata": {
    "collapsed": false
   },
   "outputs": [
    {
     "name": "stdout",
     "output_type": "stream",
     "text": [
      "01_-_SECOP_I_-_2011.csv   03_-_SECOP_I_-_2013.csv   05_-_SECOP_I_-_2015.csv\r\n",
      "01_-_SECOP_I_-_2011.html  03_-_SECOP_I_-_2013.html  05_-_SECOP_I_-_2015.html\r\n",
      "01_-_SECOP_I_-_2011.txt   03_-_SECOP_I_-_2013.txt   05_-_SECOP_I_-_2015.txt\r\n",
      "02_-_SECOP_I_-_2012.csv   04_-_SECOP_I_-_2014.csv   06_-_SECOP_I_-_2016.csv\r\n",
      "02_-_SECOP_I_-_2012.html  04_-_SECOP_I_-_2014.html  06_-_SECOP_I_-_2016.html\r\n",
      "02_-_SECOP_I_-_2012.txt   04_-_SECOP_I_-_2014.txt   06_-_SECOP_I_-_2016.txt\r\n"
     ]
    }
   ],
   "source": [
    "%ls $carpeta_datos"
   ]
  },
  {
   "cell_type": "code",
   "execution_count": 7,
   "metadata": {
    "collapsed": true
   },
   "outputs": [],
   "source": [
    "archivo_datos = carpeta_datos + \"01_-_SECOP_I_-_2011.csv\"\n",
    "secop = pd.read_csv(archivo_datos, encoding='utf-8')\n",
    "archivo_datos_limpio = carpeta_datos + \"01_-_SECOP_I_-_2011_clean.csv\"\n",
    "perfilamiento_datos_limpios = carpeta_datos + \"Perfilamiento_Datos_01_-_SECOP_I_-_2011_clean.html\""
   ]
  },
  {
   "cell_type": "code",
   "execution_count": 8,
   "metadata": {
    "collapsed": false
   },
   "outputs": [
    {
     "data": {
      "text/html": [
       "<div>\n",
       "<table border=\"1\" class=\"dataframe\">\n",
       "  <thead>\n",
       "    <tr style=\"text-align: right;\">\n",
       "      <th></th>\n",
       "      <th>Nivel Entidad</th>\n",
       "      <th>Orden Entidad</th>\n",
       "      <th>Nombre de la Entidad</th>\n",
       "      <th>NIT de la Entidad</th>\n",
       "      <th>ID Tipo de Proceso</th>\n",
       "      <th>Tipo de Proceso</th>\n",
       "      <th>Estado del Proceso</th>\n",
       "      <th>Causal de Otras Formas de Contratacion Directa</th>\n",
       "      <th>ID Regimen de Contratacion</th>\n",
       "      <th>Regimen de Contratacion</th>\n",
       "      <th>ID Objeto a Contratar</th>\n",
       "      <th>Objeto a Contratar</th>\n",
       "      <th>Detalle del Objeto a Contratar</th>\n",
       "      <th>Tipo de Contrato</th>\n",
       "      <th>Municipio Obtencion</th>\n",
       "      <th>Municipio Entrega</th>\n",
       "      <th>Municipios Ejecucion</th>\n",
       "      <th>Fecha de Cargue en el SECOP</th>\n",
       "      <th>Numero de Constancia</th>\n",
       "      <th>Numero de Proceso</th>\n",
       "      <th>...</th>\n",
       "      <th>Fecha de Firma del Contrato</th>\n",
       "      <th>Fecha Ini Ejec Contrato</th>\n",
       "      <th>Plazo de Ejec del Contrato</th>\n",
       "      <th>Rango de Ejec del Contrato</th>\n",
       "      <th>Tiempo Adiciones en Dias</th>\n",
       "      <th>Tiempo Adiciones en Meses</th>\n",
       "      <th>Fecha Fin Ejec Contrato</th>\n",
       "      <th>Compromiso Presupuestal</th>\n",
       "      <th>Cuantia Contrato</th>\n",
       "      <th>Valor Total de Adiciones</th>\n",
       "      <th>Valor Contrato con Adiciones</th>\n",
       "      <th>Objeto del Contrato a la Firma</th>\n",
       "      <th>ID Origen de los Recursos</th>\n",
       "      <th>Origen de los Recursos</th>\n",
       "      <th>Codigo BPIN</th>\n",
       "      <th>Proponentes Seleccionados</th>\n",
       "      <th>Calificacion Definitiva</th>\n",
       "      <th>ID Sub Unidad Ejecutora</th>\n",
       "      <th>Nombre Sub Unidad Ejecutora</th>\n",
       "      <th>Ruta Proceso en SECOP I</th>\n",
       "    </tr>\n",
       "  </thead>\n",
       "  <tbody>\n",
       "    <tr>\n",
       "      <th>0</th>\n",
       "      <td>NACIONAL</td>\n",
       "      <td>NACIONAL CENTRALIZADO</td>\n",
       "      <td>INSTITUTO NACIONAL DE VÍAS (INVIAS)</td>\n",
       "      <td>800215807</td>\n",
       "      <td>9</td>\n",
       "      <td>Subasta</td>\n",
       "      <td>Terminado Anormalmente después de Convocado</td>\n",
       "      <td>Ninguna</td>\n",
       "      <td>3</td>\n",
       "      <td>Estatuto General de Contratación</td>\n",
       "      <td>30000000</td>\n",
       "      <td>Componentes y Suministros para Estructuras, Ed...</td>\n",
       "      <td>SUMINISTRO DE MEZCLA ASFALTICA VIA 2501A  PAST...</td>\n",
       "      <td>Suministro</td>\n",
       "      <td>Popayán</td>\n",
       "      <td>Popayán</td>\n",
       "      <td>No definido</td>\n",
       "      <td>06/21/2011</td>\n",
       "      <td>11-9-273604</td>\n",
       "      <td>SA-SIP-DT-CAU-013-2011</td>\n",
       "      <td>...</td>\n",
       "      <td>NaN</td>\n",
       "      <td>NaN</td>\n",
       "      <td>0.0</td>\n",
       "      <td>No</td>\n",
       "      <td>0</td>\n",
       "      <td>0</td>\n",
       "      <td>NaN</td>\n",
       "      <td>No registra</td>\n",
       "      <td>$0.00</td>\n",
       "      <td>$0.00</td>\n",
       "      <td>$0.00</td>\n",
       "      <td>No definido</td>\n",
       "      <td>0</td>\n",
       "      <td>No definido</td>\n",
       "      <td>-1</td>\n",
       "      <td>No definido</td>\n",
       "      <td>No definido</td>\n",
       "      <td>0</td>\n",
       "      <td>No definida</td>\n",
       "      <td>https://www.contratos.gov.co/consultas/detalle...</td>\n",
       "    </tr>\n",
       "    <tr>\n",
       "      <th>1</th>\n",
       "      <td>NACIONAL</td>\n",
       "      <td>NACIONAL DESCENTRALIZADO</td>\n",
       "      <td>DEPARTAMENTO ADMINISTRATIVO DEL DEPORTE  LA RE...</td>\n",
       "      <td>899999306</td>\n",
       "      <td>11</td>\n",
       "      <td>Selección Abreviada de Menor Cuantía (Ley 1150...</td>\n",
       "      <td>Terminado Anormalmente después de Convocado</td>\n",
       "      <td>Ninguna</td>\n",
       "      <td>3</td>\n",
       "      <td>Estatuto General de Contratación</td>\n",
       "      <td>53000000</td>\n",
       "      <td>Ropa, Maletas y Productos de Aseo Personal</td>\n",
       "      <td>Adquisición de 770 kits uniformes deportivos  ...</td>\n",
       "      <td>Compraventa</td>\n",
       "      <td>Bogotá D.C.</td>\n",
       "      <td>Bogotá D.C.</td>\n",
       "      <td>No definido</td>\n",
       "      <td>07/28/2011</td>\n",
       "      <td>11-11-551190</td>\n",
       "      <td>SAMC009-2011</td>\n",
       "      <td>...</td>\n",
       "      <td>NaN</td>\n",
       "      <td>NaN</td>\n",
       "      <td>0.0</td>\n",
       "      <td>No</td>\n",
       "      <td>0</td>\n",
       "      <td>0</td>\n",
       "      <td>NaN</td>\n",
       "      <td>No registra</td>\n",
       "      <td>$0.00</td>\n",
       "      <td>$0.00</td>\n",
       "      <td>$0.00</td>\n",
       "      <td>No definido</td>\n",
       "      <td>0</td>\n",
       "      <td>No definido</td>\n",
       "      <td>-1</td>\n",
       "      <td>No definido</td>\n",
       "      <td>No definido</td>\n",
       "      <td>0</td>\n",
       "      <td>No definida</td>\n",
       "      <td>https://www.contratos.gov.co/consultas/detalle...</td>\n",
       "    </tr>\n",
       "    <tr>\n",
       "      <th>2</th>\n",
       "      <td>NACIONAL</td>\n",
       "      <td>NACIONAL DESCENTRALIZADO</td>\n",
       "      <td>SERVICIO NACIONAL DE APRENDIZAJE (SENA)</td>\n",
       "      <td>899999034</td>\n",
       "      <td>13</td>\n",
       "      <td>Contratación Mínima Cuantía</td>\n",
       "      <td>Terminado sin Liquidar</td>\n",
       "      <td>Ninguna</td>\n",
       "      <td>3</td>\n",
       "      <td>Estatuto General de Contratación</td>\n",
       "      <td>27000000</td>\n",
       "      <td>Herramientas y Maquinaria General</td>\n",
       "      <td>Contratar la compra de material de formación d...</td>\n",
       "      <td>Compraventa</td>\n",
       "      <td>Fusagasugá</td>\n",
       "      <td>Fusagasugá</td>\n",
       "      <td>Cundinamarca - Fusagasugá</td>\n",
       "      <td>12/13/2011</td>\n",
       "      <td>11-13-733627</td>\n",
       "      <td>Minima Cuantia CAE-056-2011</td>\n",
       "      <td>...</td>\n",
       "      <td>12/20/2011</td>\n",
       "      <td>12/21/2011</td>\n",
       "      <td>2.0</td>\n",
       "      <td>D</td>\n",
       "      <td>0</td>\n",
       "      <td>0</td>\n",
       "      <td>12/23/2011</td>\n",
       "      <td>No registra</td>\n",
       "      <td>$30351400.00</td>\n",
       "      <td>$0.00</td>\n",
       "      <td>$30351400.00</td>\n",
       "      <td>Contratar la compra de materiales de formacion...</td>\n",
       "      <td>0</td>\n",
       "      <td>No definido</td>\n",
       "      <td>-1</td>\n",
       "      <td>No definido</td>\n",
       "      <td>No definido</td>\n",
       "      <td>0</td>\n",
       "      <td>No definida</td>\n",
       "      <td>https://www.contratos.gov.co/consultas/detalle...</td>\n",
       "    </tr>\n",
       "  </tbody>\n",
       "</table>\n",
       "<p>3 rows × 56 columns</p>\n",
       "</div>"
      ],
      "text/plain": [
       "  Nivel Entidad             Orden Entidad  \\\n",
       "0      NACIONAL     NACIONAL CENTRALIZADO   \n",
       "1      NACIONAL  NACIONAL DESCENTRALIZADO   \n",
       "2      NACIONAL  NACIONAL DESCENTRALIZADO   \n",
       "\n",
       "                                Nombre de la Entidad NIT de la Entidad  \\\n",
       "0                INSTITUTO NACIONAL DE VÍAS (INVIAS)         800215807   \n",
       "1  DEPARTAMENTO ADMINISTRATIVO DEL DEPORTE  LA RE...         899999306   \n",
       "2            SERVICIO NACIONAL DE APRENDIZAJE (SENA)         899999034   \n",
       "\n",
       "   ID Tipo de Proceso                                    Tipo de Proceso  \\\n",
       "0                   9                                            Subasta   \n",
       "1                  11  Selección Abreviada de Menor Cuantía (Ley 1150...   \n",
       "2                  13                        Contratación Mínima Cuantía   \n",
       "\n",
       "                            Estado del Proceso  \\\n",
       "0  Terminado Anormalmente después de Convocado   \n",
       "1  Terminado Anormalmente después de Convocado   \n",
       "2                       Terminado sin Liquidar   \n",
       "\n",
       "  Causal de Otras Formas de Contratacion Directa  ID Regimen de Contratacion  \\\n",
       "0                                        Ninguna                           3   \n",
       "1                                        Ninguna                           3   \n",
       "2                                        Ninguna                           3   \n",
       "\n",
       "            Regimen de Contratacion  ID Objeto a Contratar  \\\n",
       "0  Estatuto General de Contratación               30000000   \n",
       "1  Estatuto General de Contratación               53000000   \n",
       "2  Estatuto General de Contratación               27000000   \n",
       "\n",
       "                                  Objeto a Contratar  \\\n",
       "0  Componentes y Suministros para Estructuras, Ed...   \n",
       "1         Ropa, Maletas y Productos de Aseo Personal   \n",
       "2                  Herramientas y Maquinaria General   \n",
       "\n",
       "                      Detalle del Objeto a Contratar Tipo de Contrato  \\\n",
       "0  SUMINISTRO DE MEZCLA ASFALTICA VIA 2501A  PAST...       Suministro   \n",
       "1  Adquisición de 770 kits uniformes deportivos  ...      Compraventa   \n",
       "2  Contratar la compra de material de formación d...      Compraventa   \n",
       "\n",
       "  Municipio Obtencion Municipio Entrega       Municipios Ejecucion  \\\n",
       "0             Popayán           Popayán                No definido   \n",
       "1         Bogotá D.C.       Bogotá D.C.                No definido   \n",
       "2          Fusagasugá        Fusagasugá  Cundinamarca - Fusagasugá   \n",
       "\n",
       "  Fecha de Cargue en el SECOP Numero de Constancia  \\\n",
       "0                  06/21/2011          11-9-273604   \n",
       "1                  07/28/2011         11-11-551190   \n",
       "2                  12/13/2011         11-13-733627   \n",
       "\n",
       "             Numero de Proceso  \\\n",
       "0       SA-SIP-DT-CAU-013-2011   \n",
       "1                 SAMC009-2011   \n",
       "2  Minima Cuantia CAE-056-2011   \n",
       "\n",
       "                         ...                          \\\n",
       "0                        ...                           \n",
       "1                        ...                           \n",
       "2                        ...                           \n",
       "\n",
       "  Fecha de Firma del Contrato Fecha Ini Ejec Contrato  \\\n",
       "0                         NaN                     NaN   \n",
       "1                         NaN                     NaN   \n",
       "2                  12/20/2011              12/21/2011   \n",
       "\n",
       "  Plazo de Ejec del Contrato Rango de Ejec del Contrato  \\\n",
       "0                        0.0                         No   \n",
       "1                        0.0                         No   \n",
       "2                        2.0                          D   \n",
       "\n",
       "   Tiempo Adiciones en Dias Tiempo Adiciones en Meses  \\\n",
       "0                         0                         0   \n",
       "1                         0                         0   \n",
       "2                         0                         0   \n",
       "\n",
       "   Fecha Fin Ejec Contrato Compromiso Presupuestal  Cuantia Contrato  \\\n",
       "0                      NaN             No registra             $0.00   \n",
       "1                      NaN             No registra             $0.00   \n",
       "2               12/23/2011             No registra      $30351400.00   \n",
       "\n",
       "  Valor Total de Adiciones Valor Contrato con Adiciones  \\\n",
       "0                    $0.00                        $0.00   \n",
       "1                    $0.00                        $0.00   \n",
       "2                    $0.00                 $30351400.00   \n",
       "\n",
       "                      Objeto del Contrato a la Firma  \\\n",
       "0                                        No definido   \n",
       "1                                        No definido   \n",
       "2  Contratar la compra de materiales de formacion...   \n",
       "\n",
       "  ID Origen de los Recursos Origen de los Recursos Codigo BPIN  \\\n",
       "0                         0            No definido          -1   \n",
       "1                         0            No definido          -1   \n",
       "2                         0            No definido          -1   \n",
       "\n",
       "  Proponentes Seleccionados Calificacion Definitiva ID Sub Unidad Ejecutora  \\\n",
       "0               No definido             No definido                       0   \n",
       "1               No definido             No definido                       0   \n",
       "2               No definido             No definido                       0   \n",
       "\n",
       "   Nombre Sub Unidad Ejecutora  \\\n",
       "0                  No definida   \n",
       "1                  No definida   \n",
       "2                  No definida   \n",
       "\n",
       "                             Ruta Proceso en SECOP I  \n",
       "0  https://www.contratos.gov.co/consultas/detalle...  \n",
       "1  https://www.contratos.gov.co/consultas/detalle...  \n",
       "2  https://www.contratos.gov.co/consultas/detalle...  \n",
       "\n",
       "[3 rows x 56 columns]"
      ]
     },
     "execution_count": 8,
     "metadata": {},
     "output_type": "execute_result"
    }
   ],
   "source": [
    "secop.head(3)"
   ]
  },
  {
   "cell_type": "code",
   "execution_count": 9,
   "metadata": {
    "collapsed": true
   },
   "outputs": [],
   "source": [
    "shape = secop.shape\n",
    "dtypes = secop.dtypes\n",
    "nulls = secop.isnull().sum()\n",
    "#duplicates = secop.duplicated()\n",
    "#duplicates_count = 0 \n",
    "#for i in range(0,len(duplicates)):\n",
    "#    if(duplicates[i]==True):\n",
    "#        duplicates_count+=1"
   ]
  },
  {
   "cell_type": "code",
   "execution_count": 10,
   "metadata": {
    "collapsed": false
   },
   "outputs": [
    {
     "name": "stdout",
     "output_type": "stream",
     "text": [
      "FORMA DE LOS DATOS:\n",
      "(266323, 56)\n",
      "\n",
      "TIPOS DE DATOS:\n",
      "Nivel Entidad                                      object\n",
      "Orden Entidad                                      object\n",
      "Nombre de la Entidad                               object\n",
      "NIT de la Entidad                                  object\n",
      "ID Tipo de Proceso                                  int64\n",
      "Tipo de Proceso                                    object\n",
      "Estado del Proceso                                 object\n",
      "Causal de Otras Formas de Contratacion Directa     object\n",
      "ID Regimen de Contratacion                          int64\n",
      "Regimen de Contratacion                            object\n",
      "ID Objeto a Contratar                               int64\n",
      "Objeto a Contratar                                 object\n",
      "Detalle del Objeto a Contratar                     object\n",
      "Tipo de Contrato                                   object\n",
      "Municipio Obtencion                                object\n",
      "Municipio Entrega                                  object\n",
      "Municipios Ejecucion                               object\n",
      "Fecha de Cargue en el SECOP                        object\n",
      "Numero de Constancia                               object\n",
      "Numero de Proceso                                  object\n",
      "Numero del Contrato                                object\n",
      "Cuantia Proceso                                    object\n",
      "ID Grupo                                           object\n",
      "Nombre Grupo                                       object\n",
      "ID Familia                                          int64\n",
      "Nombre Familia                                     object\n",
      "ID Clase                                            int64\n",
      "Nombre Clase                                       object\n",
      "ID Ajudicacion                                      int64\n",
      "Tipo Identifi del Contratista                      object\n",
      "Identificacion del Contratista                     object\n",
      "Nom Raz Social Contratista                         object\n",
      "Dpto y Muni Contratista                            object\n",
      "Tipo Doc Representante Legal                       object\n",
      "Identific del Represen Legal                       object\n",
      "Nombre del Represen Legal                          object\n",
      "Fecha de Firma del Contrato                        object\n",
      "Fecha Ini Ejec Contrato                            object\n",
      "Plazo de Ejec del Contrato                        float64\n",
      "Rango de Ejec del Contrato                         object\n",
      "Tiempo Adiciones en Dias                            int64\n",
      "Tiempo Adiciones en Meses                           int64\n",
      "Fecha Fin Ejec Contrato                            object\n",
      "Compromiso Presupuestal                            object\n",
      "Cuantia Contrato                                   object\n",
      "Valor Total de Adiciones                           object\n",
      "Valor Contrato con Adiciones                       object\n",
      "Objeto del Contrato a la Firma                     object\n",
      "ID Origen de los Recursos                           int64\n",
      "Origen de los Recursos                             object\n",
      "Codigo BPIN                                         int64\n",
      "Proponentes Seleccionados                          object\n",
      "Calificacion Definitiva                            object\n",
      "ID Sub Unidad Ejecutora                            object\n",
      "Nombre Sub Unidad Ejecutora                        object\n",
      "Ruta Proceso en SECOP I                            object\n",
      "dtype: object\n",
      "\n",
      "DATOS NULOS:\n",
      "Nivel Entidad                                         0\n",
      "Orden Entidad                                         0\n",
      "Nombre de la Entidad                                  0\n",
      "NIT de la Entidad                                     0\n",
      "ID Tipo de Proceso                                    0\n",
      "Tipo de Proceso                                       0\n",
      "Estado del Proceso                                    0\n",
      "Causal de Otras Formas de Contratacion Directa        0\n",
      "ID Regimen de Contratacion                            0\n",
      "Regimen de Contratacion                               0\n",
      "ID Objeto a Contratar                                 0\n",
      "Objeto a Contratar                                    0\n",
      "Detalle del Objeto a Contratar                        2\n",
      "Tipo de Contrato                                      0\n",
      "Municipio Obtencion                                   0\n",
      "Municipio Entrega                                     0\n",
      "Municipios Ejecucion                                  0\n",
      "Fecha de Cargue en el SECOP                           0\n",
      "Numero de Constancia                                  0\n",
      "Numero de Proceso                                    22\n",
      "Numero del Contrato                                 269\n",
      "Cuantia Proceso                                       0\n",
      "ID Grupo                                              0\n",
      "Nombre Grupo                                          0\n",
      "ID Familia                                            0\n",
      "Nombre Familia                                        0\n",
      "ID Clase                                              0\n",
      "Nombre Clase                                          0\n",
      "ID Ajudicacion                                        0\n",
      "Tipo Identifi del Contratista                         0\n",
      "Identificacion del Contratista                       11\n",
      "Nom Raz Social Contratista                            1\n",
      "Dpto y Muni Contratista                               0\n",
      "Tipo Doc Representante Legal                          0\n",
      "Identific del Represen Legal                       1275\n",
      "Nombre del Represen Legal                          1320\n",
      "Fecha de Firma del Contrato                       74854\n",
      "Fecha Ini Ejec Contrato                           74854\n",
      "Plazo de Ejec del Contrato                            0\n",
      "Rango de Ejec del Contrato                            0\n",
      "Tiempo Adiciones en Dias                              0\n",
      "Tiempo Adiciones en Meses                             0\n",
      "Fecha Fin Ejec Contrato                           76924\n",
      "Compromiso Presupuestal                               0\n",
      "Cuantia Contrato                                      0\n",
      "Valor Total de Adiciones                              0\n",
      "Valor Contrato con Adiciones                          0\n",
      "Objeto del Contrato a la Firma                        1\n",
      "ID Origen de los Recursos                             0\n",
      "Origen de los Recursos                                0\n",
      "Codigo BPIN                                           0\n",
      "Proponentes Seleccionados                           139\n",
      "Calificacion Definitiva                             253\n",
      "ID Sub Unidad Ejecutora                               0\n",
      "Nombre Sub Unidad Ejecutora                           0\n",
      "Ruta Proceso en SECOP I                               0\n",
      "dtype: int64\n"
     ]
    }
   ],
   "source": [
    "print (\"FORMA DE LOS DATOS:\")\n",
    "print (shape)\n",
    "print (\"\\nTIPOS DE DATOS:\")\n",
    "print (dtypes)\n",
    "print (\"\\nDATOS NULOS:\")\n",
    "print (nulls)\n",
    "#print (\"\\nDATOS REPETIDOS:\", duplicates_count)"
   ]
  },
  {
   "cell_type": "markdown",
   "metadata": {},
   "source": [
    "## Se eliminan duplicados, columnas innecesarias y registros con valores nulos"
   ]
  },
  {
   "cell_type": "code",
   "execution_count": 11,
   "metadata": {
    "collapsed": false
   },
   "outputs": [],
   "source": [
    "#Se eliminan columnas innecesarias y duplicados\n",
    "secop = secop.drop_duplicates()\n",
    "secop = secop.drop(['Fecha Ini Ejec Contrato',\n",
    "                   'Fecha de Firma del Contrato',\n",
    "                   'Fecha Fin Ejec Contrato'], axis=1)\n",
    "secop = secop.dropna()                   "
   ]
  },
  {
   "cell_type": "code",
   "execution_count": 12,
   "metadata": {
    "collapsed": true
   },
   "outputs": [],
   "source": [
    "shape = secop.shape\n",
    "dtypes = secop.dtypes\n",
    "nulls = secop.isnull().sum()\n",
    "#duplicates = secop.duplicated()\n",
    "#duplicates_count = 0 \n",
    "#for i in range(0,len(duplicates)):\n",
    "#    if(duplicates[i]==True):\n",
    "#        duplicates_count+=1"
   ]
  },
  {
   "cell_type": "code",
   "execution_count": 13,
   "metadata": {
    "collapsed": false
   },
   "outputs": [
    {
     "name": "stdout",
     "output_type": "stream",
     "text": [
      "FORMA DE LOS DATOS:\n",
      "(264418, 53)\n",
      "\n",
      "TIPOS DE DATOS:\n",
      "Nivel Entidad                                      object\n",
      "Orden Entidad                                      object\n",
      "Nombre de la Entidad                               object\n",
      "NIT de la Entidad                                  object\n",
      "ID Tipo de Proceso                                  int64\n",
      "Tipo de Proceso                                    object\n",
      "Estado del Proceso                                 object\n",
      "Causal de Otras Formas de Contratacion Directa     object\n",
      "ID Regimen de Contratacion                          int64\n",
      "Regimen de Contratacion                            object\n",
      "ID Objeto a Contratar                               int64\n",
      "Objeto a Contratar                                 object\n",
      "Detalle del Objeto a Contratar                     object\n",
      "Tipo de Contrato                                   object\n",
      "Municipio Obtencion                                object\n",
      "Municipio Entrega                                  object\n",
      "Municipios Ejecucion                               object\n",
      "Fecha de Cargue en el SECOP                        object\n",
      "Numero de Constancia                               object\n",
      "Numero de Proceso                                  object\n",
      "Numero del Contrato                                object\n",
      "Cuantia Proceso                                    object\n",
      "ID Grupo                                           object\n",
      "Nombre Grupo                                       object\n",
      "ID Familia                                          int64\n",
      "Nombre Familia                                     object\n",
      "ID Clase                                            int64\n",
      "Nombre Clase                                       object\n",
      "ID Ajudicacion                                      int64\n",
      "Tipo Identifi del Contratista                      object\n",
      "Identificacion del Contratista                     object\n",
      "Nom Raz Social Contratista                         object\n",
      "Dpto y Muni Contratista                            object\n",
      "Tipo Doc Representante Legal                       object\n",
      "Identific del Represen Legal                       object\n",
      "Nombre del Represen Legal                          object\n",
      "Plazo de Ejec del Contrato                        float64\n",
      "Rango de Ejec del Contrato                         object\n",
      "Tiempo Adiciones en Dias                            int64\n",
      "Tiempo Adiciones en Meses                           int64\n",
      "Compromiso Presupuestal                            object\n",
      "Cuantia Contrato                                   object\n",
      "Valor Total de Adiciones                           object\n",
      "Valor Contrato con Adiciones                       object\n",
      "Objeto del Contrato a la Firma                     object\n",
      "ID Origen de los Recursos                           int64\n",
      "Origen de los Recursos                             object\n",
      "Codigo BPIN                                         int64\n",
      "Proponentes Seleccionados                          object\n",
      "Calificacion Definitiva                            object\n",
      "ID Sub Unidad Ejecutora                            object\n",
      "Nombre Sub Unidad Ejecutora                        object\n",
      "Ruta Proceso en SECOP I                            object\n",
      "dtype: object\n",
      "\n",
      "DATOS NULOS:\n",
      "Nivel Entidad                                     0\n",
      "Orden Entidad                                     0\n",
      "Nombre de la Entidad                              0\n",
      "NIT de la Entidad                                 0\n",
      "ID Tipo de Proceso                                0\n",
      "Tipo de Proceso                                   0\n",
      "Estado del Proceso                                0\n",
      "Causal de Otras Formas de Contratacion Directa    0\n",
      "ID Regimen de Contratacion                        0\n",
      "Regimen de Contratacion                           0\n",
      "ID Objeto a Contratar                             0\n",
      "Objeto a Contratar                                0\n",
      "Detalle del Objeto a Contratar                    0\n",
      "Tipo de Contrato                                  0\n",
      "Municipio Obtencion                               0\n",
      "Municipio Entrega                                 0\n",
      "Municipios Ejecucion                              0\n",
      "Fecha de Cargue en el SECOP                       0\n",
      "Numero de Constancia                              0\n",
      "Numero de Proceso                                 0\n",
      "Numero del Contrato                               0\n",
      "Cuantia Proceso                                   0\n",
      "ID Grupo                                          0\n",
      "Nombre Grupo                                      0\n",
      "ID Familia                                        0\n",
      "Nombre Familia                                    0\n",
      "ID Clase                                          0\n",
      "Nombre Clase                                      0\n",
      "ID Ajudicacion                                    0\n",
      "Tipo Identifi del Contratista                     0\n",
      "Identificacion del Contratista                    0\n",
      "Nom Raz Social Contratista                        0\n",
      "Dpto y Muni Contratista                           0\n",
      "Tipo Doc Representante Legal                      0\n",
      "Identific del Represen Legal                      0\n",
      "Nombre del Represen Legal                         0\n",
      "Plazo de Ejec del Contrato                        0\n",
      "Rango de Ejec del Contrato                        0\n",
      "Tiempo Adiciones en Dias                          0\n",
      "Tiempo Adiciones en Meses                         0\n",
      "Compromiso Presupuestal                           0\n",
      "Cuantia Contrato                                  0\n",
      "Valor Total de Adiciones                          0\n",
      "Valor Contrato con Adiciones                      0\n",
      "Objeto del Contrato a la Firma                    0\n",
      "ID Origen de los Recursos                         0\n",
      "Origen de los Recursos                            0\n",
      "Codigo BPIN                                       0\n",
      "Proponentes Seleccionados                         0\n",
      "Calificacion Definitiva                           0\n",
      "ID Sub Unidad Ejecutora                           0\n",
      "Nombre Sub Unidad Ejecutora                       0\n",
      "Ruta Proceso en SECOP I                           0\n",
      "dtype: int64\n"
     ]
    }
   ],
   "source": [
    "print (\"FORMA DE LOS DATOS:\")\n",
    "print (shape)\n",
    "print (\"\\nTIPOS DE DATOS:\")\n",
    "print (dtypes)\n",
    "print (\"\\nDATOS NULOS:\")\n",
    "print (nulls)\n",
    "#print (\"\\nDATOS REPETIDOS:\", duplicates_count)"
   ]
  },
  {
   "cell_type": "code",
   "execution_count": 14,
   "metadata": {
    "collapsed": false
   },
   "outputs": [
    {
     "data": {
      "text/html": [
       "<div>\n",
       "<table border=\"1\" class=\"dataframe\">\n",
       "  <thead>\n",
       "    <tr style=\"text-align: right;\">\n",
       "      <th></th>\n",
       "      <th>Nivel Entidad</th>\n",
       "      <th>Orden Entidad</th>\n",
       "      <th>Nombre de la Entidad</th>\n",
       "      <th>NIT de la Entidad</th>\n",
       "      <th>ID Tipo de Proceso</th>\n",
       "      <th>Tipo de Proceso</th>\n",
       "      <th>Estado del Proceso</th>\n",
       "      <th>Causal de Otras Formas de Contratacion Directa</th>\n",
       "      <th>ID Regimen de Contratacion</th>\n",
       "      <th>Regimen de Contratacion</th>\n",
       "      <th>ID Objeto a Contratar</th>\n",
       "      <th>Objeto a Contratar</th>\n",
       "      <th>Detalle del Objeto a Contratar</th>\n",
       "      <th>Tipo de Contrato</th>\n",
       "      <th>Municipio Obtencion</th>\n",
       "      <th>Municipio Entrega</th>\n",
       "      <th>Municipios Ejecucion</th>\n",
       "      <th>Fecha de Cargue en el SECOP</th>\n",
       "      <th>Numero de Constancia</th>\n",
       "      <th>Numero de Proceso</th>\n",
       "      <th>...</th>\n",
       "      <th>Tipo Doc Representante Legal</th>\n",
       "      <th>Identific del Represen Legal</th>\n",
       "      <th>Nombre del Represen Legal</th>\n",
       "      <th>Plazo de Ejec del Contrato</th>\n",
       "      <th>Rango de Ejec del Contrato</th>\n",
       "      <th>Tiempo Adiciones en Dias</th>\n",
       "      <th>Tiempo Adiciones en Meses</th>\n",
       "      <th>Compromiso Presupuestal</th>\n",
       "      <th>Cuantia Contrato</th>\n",
       "      <th>Valor Total de Adiciones</th>\n",
       "      <th>Valor Contrato con Adiciones</th>\n",
       "      <th>Objeto del Contrato a la Firma</th>\n",
       "      <th>ID Origen de los Recursos</th>\n",
       "      <th>Origen de los Recursos</th>\n",
       "      <th>Codigo BPIN</th>\n",
       "      <th>Proponentes Seleccionados</th>\n",
       "      <th>Calificacion Definitiva</th>\n",
       "      <th>ID Sub Unidad Ejecutora</th>\n",
       "      <th>Nombre Sub Unidad Ejecutora</th>\n",
       "      <th>Ruta Proceso en SECOP I</th>\n",
       "    </tr>\n",
       "  </thead>\n",
       "  <tbody>\n",
       "    <tr>\n",
       "      <th>0</th>\n",
       "      <td>NACIONAL</td>\n",
       "      <td>NACIONAL CENTRALIZADO</td>\n",
       "      <td>INSTITUTO NACIONAL DE VÍAS (INVIAS)</td>\n",
       "      <td>800215807</td>\n",
       "      <td>9</td>\n",
       "      <td>Subasta</td>\n",
       "      <td>Terminado Anormalmente después de Convocado</td>\n",
       "      <td>Ninguna</td>\n",
       "      <td>3</td>\n",
       "      <td>Estatuto General de Contratación</td>\n",
       "      <td>30000000</td>\n",
       "      <td>Componentes y Suministros para Estructuras, Ed...</td>\n",
       "      <td>SUMINISTRO DE MEZCLA ASFALTICA VIA 2501A  PAST...</td>\n",
       "      <td>Suministro</td>\n",
       "      <td>Popayán</td>\n",
       "      <td>Popayán</td>\n",
       "      <td>No definido</td>\n",
       "      <td>06/21/2011</td>\n",
       "      <td>11-9-273604</td>\n",
       "      <td>SA-SIP-DT-CAU-013-2011</td>\n",
       "      <td>...</td>\n",
       "      <td>No Definido</td>\n",
       "      <td>No Definido</td>\n",
       "      <td>No Definido</td>\n",
       "      <td>0.0</td>\n",
       "      <td>No</td>\n",
       "      <td>0</td>\n",
       "      <td>0</td>\n",
       "      <td>No registra</td>\n",
       "      <td>$0.00</td>\n",
       "      <td>$0.00</td>\n",
       "      <td>$0.00</td>\n",
       "      <td>No definido</td>\n",
       "      <td>0</td>\n",
       "      <td>No definido</td>\n",
       "      <td>-1</td>\n",
       "      <td>No definido</td>\n",
       "      <td>No definido</td>\n",
       "      <td>0</td>\n",
       "      <td>No definida</td>\n",
       "      <td>https://www.contratos.gov.co/consultas/detalle...</td>\n",
       "    </tr>\n",
       "    <tr>\n",
       "      <th>1</th>\n",
       "      <td>NACIONAL</td>\n",
       "      <td>NACIONAL DESCENTRALIZADO</td>\n",
       "      <td>DEPARTAMENTO ADMINISTRATIVO DEL DEPORTE  LA RE...</td>\n",
       "      <td>899999306</td>\n",
       "      <td>11</td>\n",
       "      <td>Selección Abreviada de Menor Cuantía (Ley 1150...</td>\n",
       "      <td>Terminado Anormalmente después de Convocado</td>\n",
       "      <td>Ninguna</td>\n",
       "      <td>3</td>\n",
       "      <td>Estatuto General de Contratación</td>\n",
       "      <td>53000000</td>\n",
       "      <td>Ropa, Maletas y Productos de Aseo Personal</td>\n",
       "      <td>Adquisición de 770 kits uniformes deportivos  ...</td>\n",
       "      <td>Compraventa</td>\n",
       "      <td>Bogotá D.C.</td>\n",
       "      <td>Bogotá D.C.</td>\n",
       "      <td>No definido</td>\n",
       "      <td>07/28/2011</td>\n",
       "      <td>11-11-551190</td>\n",
       "      <td>SAMC009-2011</td>\n",
       "      <td>...</td>\n",
       "      <td>No Definido</td>\n",
       "      <td>No Definido</td>\n",
       "      <td>No Definido</td>\n",
       "      <td>0.0</td>\n",
       "      <td>No</td>\n",
       "      <td>0</td>\n",
       "      <td>0</td>\n",
       "      <td>No registra</td>\n",
       "      <td>$0.00</td>\n",
       "      <td>$0.00</td>\n",
       "      <td>$0.00</td>\n",
       "      <td>No definido</td>\n",
       "      <td>0</td>\n",
       "      <td>No definido</td>\n",
       "      <td>-1</td>\n",
       "      <td>No definido</td>\n",
       "      <td>No definido</td>\n",
       "      <td>0</td>\n",
       "      <td>No definida</td>\n",
       "      <td>https://www.contratos.gov.co/consultas/detalle...</td>\n",
       "    </tr>\n",
       "    <tr>\n",
       "      <th>2</th>\n",
       "      <td>NACIONAL</td>\n",
       "      <td>NACIONAL DESCENTRALIZADO</td>\n",
       "      <td>SERVICIO NACIONAL DE APRENDIZAJE (SENA)</td>\n",
       "      <td>899999034</td>\n",
       "      <td>13</td>\n",
       "      <td>Contratación Mínima Cuantía</td>\n",
       "      <td>Terminado sin Liquidar</td>\n",
       "      <td>Ninguna</td>\n",
       "      <td>3</td>\n",
       "      <td>Estatuto General de Contratación</td>\n",
       "      <td>27000000</td>\n",
       "      <td>Herramientas y Maquinaria General</td>\n",
       "      <td>Contratar la compra de material de formación d...</td>\n",
       "      <td>Compraventa</td>\n",
       "      <td>Fusagasugá</td>\n",
       "      <td>Fusagasugá</td>\n",
       "      <td>Cundinamarca - Fusagasugá</td>\n",
       "      <td>12/13/2011</td>\n",
       "      <td>11-13-733627</td>\n",
       "      <td>Minima Cuantia CAE-056-2011</td>\n",
       "      <td>...</td>\n",
       "      <td>Cédula de Ciudadanía</td>\n",
       "      <td>51.704.665.</td>\n",
       "      <td>MARIA ELENA CALDAS GOMEZ.</td>\n",
       "      <td>2.0</td>\n",
       "      <td>D</td>\n",
       "      <td>0</td>\n",
       "      <td>0</td>\n",
       "      <td>No registra</td>\n",
       "      <td>$30351400.00</td>\n",
       "      <td>$0.00</td>\n",
       "      <td>$30351400.00</td>\n",
       "      <td>Contratar la compra de materiales de formacion...</td>\n",
       "      <td>0</td>\n",
       "      <td>No definido</td>\n",
       "      <td>-1</td>\n",
       "      <td>No definido</td>\n",
       "      <td>No definido</td>\n",
       "      <td>0</td>\n",
       "      <td>No definida</td>\n",
       "      <td>https://www.contratos.gov.co/consultas/detalle...</td>\n",
       "    </tr>\n",
       "  </tbody>\n",
       "</table>\n",
       "<p>3 rows × 53 columns</p>\n",
       "</div>"
      ],
      "text/plain": [
       "  Nivel Entidad             Orden Entidad  \\\n",
       "0      NACIONAL     NACIONAL CENTRALIZADO   \n",
       "1      NACIONAL  NACIONAL DESCENTRALIZADO   \n",
       "2      NACIONAL  NACIONAL DESCENTRALIZADO   \n",
       "\n",
       "                                Nombre de la Entidad NIT de la Entidad  \\\n",
       "0                INSTITUTO NACIONAL DE VÍAS (INVIAS)         800215807   \n",
       "1  DEPARTAMENTO ADMINISTRATIVO DEL DEPORTE  LA RE...         899999306   \n",
       "2            SERVICIO NACIONAL DE APRENDIZAJE (SENA)         899999034   \n",
       "\n",
       "   ID Tipo de Proceso                                    Tipo de Proceso  \\\n",
       "0                   9                                            Subasta   \n",
       "1                  11  Selección Abreviada de Menor Cuantía (Ley 1150...   \n",
       "2                  13                        Contratación Mínima Cuantía   \n",
       "\n",
       "                            Estado del Proceso  \\\n",
       "0  Terminado Anormalmente después de Convocado   \n",
       "1  Terminado Anormalmente después de Convocado   \n",
       "2                       Terminado sin Liquidar   \n",
       "\n",
       "  Causal de Otras Formas de Contratacion Directa  ID Regimen de Contratacion  \\\n",
       "0                                        Ninguna                           3   \n",
       "1                                        Ninguna                           3   \n",
       "2                                        Ninguna                           3   \n",
       "\n",
       "            Regimen de Contratacion  ID Objeto a Contratar  \\\n",
       "0  Estatuto General de Contratación               30000000   \n",
       "1  Estatuto General de Contratación               53000000   \n",
       "2  Estatuto General de Contratación               27000000   \n",
       "\n",
       "                                  Objeto a Contratar  \\\n",
       "0  Componentes y Suministros para Estructuras, Ed...   \n",
       "1         Ropa, Maletas y Productos de Aseo Personal   \n",
       "2                  Herramientas y Maquinaria General   \n",
       "\n",
       "                      Detalle del Objeto a Contratar Tipo de Contrato  \\\n",
       "0  SUMINISTRO DE MEZCLA ASFALTICA VIA 2501A  PAST...       Suministro   \n",
       "1  Adquisición de 770 kits uniformes deportivos  ...      Compraventa   \n",
       "2  Contratar la compra de material de formación d...      Compraventa   \n",
       "\n",
       "  Municipio Obtencion Municipio Entrega       Municipios Ejecucion  \\\n",
       "0             Popayán           Popayán                No definido   \n",
       "1         Bogotá D.C.       Bogotá D.C.                No definido   \n",
       "2          Fusagasugá        Fusagasugá  Cundinamarca - Fusagasugá   \n",
       "\n",
       "  Fecha de Cargue en el SECOP Numero de Constancia  \\\n",
       "0                  06/21/2011          11-9-273604   \n",
       "1                  07/28/2011         11-11-551190   \n",
       "2                  12/13/2011         11-13-733627   \n",
       "\n",
       "             Numero de Proceso  \\\n",
       "0       SA-SIP-DT-CAU-013-2011   \n",
       "1                 SAMC009-2011   \n",
       "2  Minima Cuantia CAE-056-2011   \n",
       "\n",
       "                         ...                          \\\n",
       "0                        ...                           \n",
       "1                        ...                           \n",
       "2                        ...                           \n",
       "\n",
       "  Tipo Doc Representante Legal Identific del Represen Legal  \\\n",
       "0                  No Definido                  No Definido   \n",
       "1                  No Definido                  No Definido   \n",
       "2         Cédula de Ciudadanía                  51.704.665.   \n",
       "\n",
       "   Nombre del Represen Legal Plazo de Ejec del Contrato  \\\n",
       "0                No Definido                        0.0   \n",
       "1                No Definido                        0.0   \n",
       "2  MARIA ELENA CALDAS GOMEZ.                        2.0   \n",
       "\n",
       "   Rango de Ejec del Contrato Tiempo Adiciones en Dias  \\\n",
       "0                          No                        0   \n",
       "1                          No                        0   \n",
       "2                           D                        0   \n",
       "\n",
       "   Tiempo Adiciones en Meses Compromiso Presupuestal  Cuantia Contrato  \\\n",
       "0                          0             No registra             $0.00   \n",
       "1                          0             No registra             $0.00   \n",
       "2                          0             No registra      $30351400.00   \n",
       "\n",
       "  Valor Total de Adiciones Valor Contrato con Adiciones  \\\n",
       "0                    $0.00                        $0.00   \n",
       "1                    $0.00                        $0.00   \n",
       "2                    $0.00                 $30351400.00   \n",
       "\n",
       "                      Objeto del Contrato a la Firma  \\\n",
       "0                                        No definido   \n",
       "1                                        No definido   \n",
       "2  Contratar la compra de materiales de formacion...   \n",
       "\n",
       "  ID Origen de los Recursos Origen de los Recursos Codigo BPIN  \\\n",
       "0                         0            No definido          -1   \n",
       "1                         0            No definido          -1   \n",
       "2                         0            No definido          -1   \n",
       "\n",
       "  Proponentes Seleccionados  Calificacion Definitiva ID Sub Unidad Ejecutora  \\\n",
       "0               No definido              No definido                       0   \n",
       "1               No definido              No definido                       0   \n",
       "2               No definido              No definido                       0   \n",
       "\n",
       "   Nombre Sub Unidad Ejecutora  \\\n",
       "0                  No definida   \n",
       "1                  No definida   \n",
       "2                  No definida   \n",
       "\n",
       "                             Ruta Proceso en SECOP I  \n",
       "0  https://www.contratos.gov.co/consultas/detalle...  \n",
       "1  https://www.contratos.gov.co/consultas/detalle...  \n",
       "2  https://www.contratos.gov.co/consultas/detalle...  \n",
       "\n",
       "[3 rows x 53 columns]"
      ]
     },
     "execution_count": 14,
     "metadata": {},
     "output_type": "execute_result"
    }
   ],
   "source": [
    "secop.head(3)"
   ]
  },
  {
   "cell_type": "markdown",
   "metadata": {},
   "source": [
    "## NIT de la Entidad Contratante - Se eliminan caracteres que no sean números"
   ]
  },
  {
   "cell_type": "code",
   "execution_count": 15,
   "metadata": {
    "collapsed": false
   },
   "outputs": [
    {
     "data": {
      "text/plain": [
       "0       800215807\n",
       "1       899999306\n",
       "2       899999034\n",
       "3     811000372-7\n",
       "4     800016757-9\n",
       "5     890900286-0\n",
       "6       800215546\n",
       "7       899999034\n",
       "8     890001127-0\n",
       "9       800152783\n",
       "10    890210932-1\n",
       "11    802000339-0\n",
       "12    891901079-0\n",
       "13      899999001\n",
       "14    891800498-1\n",
       "15    899999367-7\n",
       "16    800194096-0\n",
       "17    800096613-9\n",
       "18      800140603\n",
       "19    899999432-8\n",
       "Name: NIT de la Entidad, dtype: object"
      ]
     },
     "execution_count": 15,
     "metadata": {},
     "output_type": "execute_result"
    }
   ],
   "source": [
    "secop['NIT de la Entidad'].head(20)"
   ]
  },
  {
   "cell_type": "code",
   "execution_count": 16,
   "metadata": {
    "collapsed": false
   },
   "outputs": [],
   "source": [
    "secop[['NIT de la Entidad']] =secop[['NIT de la Entidad']].replace({'[^0-9]':''}, regex=True)"
   ]
  },
  {
   "cell_type": "code",
   "execution_count": 17,
   "metadata": {
    "collapsed": false
   },
   "outputs": [
    {
     "data": {
      "text/plain": [
       "0      800215807\n",
       "1      899999306\n",
       "2      899999034\n",
       "3     8110003727\n",
       "4     8000167579\n",
       "5     8909002860\n",
       "6      800215546\n",
       "7      899999034\n",
       "8     8900011270\n",
       "9      800152783\n",
       "10    8902109321\n",
       "11    8020003390\n",
       "12    8919010790\n",
       "13     899999001\n",
       "14    8918004981\n",
       "15    8999993677\n",
       "16    8001940960\n",
       "17    8000966139\n",
       "18     800140603\n",
       "19    8999994328\n",
       "Name: NIT de la Entidad, dtype: object"
      ]
     },
     "execution_count": 17,
     "metadata": {},
     "output_type": "execute_result"
    }
   ],
   "source": [
    "secop['NIT de la Entidad'].head(20)"
   ]
  },
  {
   "cell_type": "code",
   "execution_count": 18,
   "metadata": {
    "collapsed": true
   },
   "outputs": [],
   "source": [
    "secop = secop.replace('', np.nan, regex=True)"
   ]
  },
  {
   "cell_type": "code",
   "execution_count": 19,
   "metadata": {
    "collapsed": false
   },
   "outputs": [
    {
     "data": {
      "text/plain": [
       "0      800215807\n",
       "1      899999306\n",
       "2      899999034\n",
       "3     8110003727\n",
       "4     8000167579\n",
       "5     8909002860\n",
       "6      800215546\n",
       "7      899999034\n",
       "8     8900011270\n",
       "9      800152783\n",
       "10    8902109321\n",
       "11    8020003390\n",
       "12    8919010790\n",
       "13     899999001\n",
       "14    8918004981\n",
       "15    8999993677\n",
       "16    8001940960\n",
       "17    8000966139\n",
       "18     800140603\n",
       "19    8999994328\n",
       "Name: NIT de la Entidad, dtype: object"
      ]
     },
     "execution_count": 19,
     "metadata": {},
     "output_type": "execute_result"
    }
   ],
   "source": [
    "secop['NIT de la Entidad'].head(20)"
   ]
  },
  {
   "cell_type": "code",
   "execution_count": 20,
   "metadata": {
    "collapsed": true
   },
   "outputs": [],
   "source": [
    "shape = secop.shape\n",
    "dtypes = secop.dtypes\n",
    "nulls = secop.isnull().sum()"
   ]
  },
  {
   "cell_type": "code",
   "execution_count": 21,
   "metadata": {
    "collapsed": false
   },
   "outputs": [
    {
     "name": "stdout",
     "output_type": "stream",
     "text": [
      "FORMA DE LOS DATOS:\n",
      "(264418, 53)\n",
      "\n",
      "TIPOS DE DATOS:\n",
      "Nivel Entidad                                      object\n",
      "Orden Entidad                                      object\n",
      "Nombre de la Entidad                               object\n",
      "NIT de la Entidad                                  object\n",
      "ID Tipo de Proceso                                  int64\n",
      "Tipo de Proceso                                    object\n",
      "Estado del Proceso                                 object\n",
      "Causal de Otras Formas de Contratacion Directa     object\n",
      "ID Regimen de Contratacion                          int64\n",
      "Regimen de Contratacion                            object\n",
      "ID Objeto a Contratar                               int64\n",
      "Objeto a Contratar                                 object\n",
      "Detalle del Objeto a Contratar                     object\n",
      "Tipo de Contrato                                   object\n",
      "Municipio Obtencion                                object\n",
      "Municipio Entrega                                  object\n",
      "Municipios Ejecucion                               object\n",
      "Fecha de Cargue en el SECOP                        object\n",
      "Numero de Constancia                               object\n",
      "Numero de Proceso                                  object\n",
      "Numero del Contrato                                object\n",
      "Cuantia Proceso                                    object\n",
      "ID Grupo                                           object\n",
      "Nombre Grupo                                       object\n",
      "ID Familia                                          int64\n",
      "Nombre Familia                                     object\n",
      "ID Clase                                            int64\n",
      "Nombre Clase                                       object\n",
      "ID Ajudicacion                                      int64\n",
      "Tipo Identifi del Contratista                      object\n",
      "Identificacion del Contratista                     object\n",
      "Nom Raz Social Contratista                         object\n",
      "Dpto y Muni Contratista                            object\n",
      "Tipo Doc Representante Legal                       object\n",
      "Identific del Represen Legal                       object\n",
      "Nombre del Represen Legal                          object\n",
      "Plazo de Ejec del Contrato                        float64\n",
      "Rango de Ejec del Contrato                         object\n",
      "Tiempo Adiciones en Dias                            int64\n",
      "Tiempo Adiciones en Meses                           int64\n",
      "Compromiso Presupuestal                            object\n",
      "Cuantia Contrato                                   object\n",
      "Valor Total de Adiciones                           object\n",
      "Valor Contrato con Adiciones                       object\n",
      "Objeto del Contrato a la Firma                     object\n",
      "ID Origen de los Recursos                           int64\n",
      "Origen de los Recursos                             object\n",
      "Codigo BPIN                                         int64\n",
      "Proponentes Seleccionados                          object\n",
      "Calificacion Definitiva                            object\n",
      "ID Sub Unidad Ejecutora                            object\n",
      "Nombre Sub Unidad Ejecutora                        object\n",
      "Ruta Proceso en SECOP I                            object\n",
      "dtype: object\n",
      "\n",
      "DATOS NULOS:\n",
      "Nivel Entidad                                         0\n",
      "Orden Entidad                                         0\n",
      "Nombre de la Entidad                                  0\n",
      "NIT de la Entidad                                 40164\n",
      "ID Tipo de Proceso                                    0\n",
      "Tipo de Proceso                                       0\n",
      "Estado del Proceso                                    0\n",
      "Causal de Otras Formas de Contratacion Directa        0\n",
      "ID Regimen de Contratacion                            0\n",
      "Regimen de Contratacion                               0\n",
      "ID Objeto a Contratar                                 0\n",
      "Objeto a Contratar                                    0\n",
      "Detalle del Objeto a Contratar                        0\n",
      "Tipo de Contrato                                      0\n",
      "Municipio Obtencion                                   0\n",
      "Municipio Entrega                                     0\n",
      "Municipios Ejecucion                                  0\n",
      "Fecha de Cargue en el SECOP                           0\n",
      "Numero de Constancia                                  0\n",
      "Numero de Proceso                                     0\n",
      "Numero del Contrato                                   0\n",
      "Cuantia Proceso                                       0\n",
      "ID Grupo                                              0\n",
      "Nombre Grupo                                          0\n",
      "ID Familia                                            0\n",
      "Nombre Familia                                        0\n",
      "ID Clase                                              0\n",
      "Nombre Clase                                          0\n",
      "ID Ajudicacion                                        0\n",
      "Tipo Identifi del Contratista                         0\n",
      "Identificacion del Contratista                        0\n",
      "Nom Raz Social Contratista                            0\n",
      "Dpto y Muni Contratista                               0\n",
      "Tipo Doc Representante Legal                          0\n",
      "Identific del Represen Legal                          0\n",
      "Nombre del Represen Legal                             0\n",
      "Plazo de Ejec del Contrato                            0\n",
      "Rango de Ejec del Contrato                            0\n",
      "Tiempo Adiciones en Dias                              0\n",
      "Tiempo Adiciones en Meses                             0\n",
      "Compromiso Presupuestal                               0\n",
      "Cuantia Contrato                                      0\n",
      "Valor Total de Adiciones                              0\n",
      "Valor Contrato con Adiciones                          0\n",
      "Objeto del Contrato a la Firma                        0\n",
      "ID Origen de los Recursos                             0\n",
      "Origen de los Recursos                                0\n",
      "Codigo BPIN                                           0\n",
      "Proponentes Seleccionados                             0\n",
      "Calificacion Definitiva                               0\n",
      "ID Sub Unidad Ejecutora                               0\n",
      "Nombre Sub Unidad Ejecutora                           0\n",
      "Ruta Proceso en SECOP I                               0\n",
      "dtype: int64\n"
     ]
    }
   ],
   "source": [
    "print (\"FORMA DE LOS DATOS:\")\n",
    "print (shape)\n",
    "print (\"\\nTIPOS DE DATOS:\")\n",
    "print (dtypes)\n",
    "print (\"\\nDATOS NULOS:\")\n",
    "print (nulls)\n",
    "#print (\"\\nDATOS REPETIDOS:\", duplicates_count)"
   ]
  },
  {
   "cell_type": "markdown",
   "metadata": {},
   "source": [
    "## Identificacion del Contratista  - Se eliminan caracteres que no sean números"
   ]
  },
  {
   "cell_type": "code",
   "execution_count": 22,
   "metadata": {
    "collapsed": false
   },
   "outputs": [
    {
     "data": {
      "text/plain": [
       "0       No Definido\n",
       "1       No Definido\n",
       "2     830.087.675-6\n",
       "3       No Definido\n",
       "4       No Definido\n",
       "5       890982616-9\n",
       "6       No Definido\n",
       "7        17.339.685\n",
       "8       900252617-1\n",
       "9       No Definido\n",
       "10      No Definido\n",
       "11       22.588.801\n",
       "12         27209738\n",
       "13      830061474-1\n",
       "14      800099714-8\n",
       "15       71.774.893\n",
       "16      No Definido\n",
       "17       15957536-8\n",
       "18         32825859\n",
       "19      No Definido\n",
       "Name: Identificacion del Contratista, dtype: object"
      ]
     },
     "execution_count": 22,
     "metadata": {},
     "output_type": "execute_result"
    }
   ],
   "source": [
    "secop['Identificacion del Contratista'].head(20)"
   ]
  },
  {
   "cell_type": "code",
   "execution_count": 23,
   "metadata": {
    "collapsed": true
   },
   "outputs": [],
   "source": [
    "secop[['Identificacion del Contratista']] =secop[['Identificacion del Contratista']].replace({'[^0-9]':''}, regex=True)"
   ]
  },
  {
   "cell_type": "code",
   "execution_count": 24,
   "metadata": {
    "collapsed": false
   },
   "outputs": [
    {
     "data": {
      "text/plain": [
       "0               \n",
       "1               \n",
       "2     8300876756\n",
       "3               \n",
       "4               \n",
       "5     8909826169\n",
       "6               \n",
       "7       17339685\n",
       "8     9002526171\n",
       "9               \n",
       "10              \n",
       "11      22588801\n",
       "12      27209738\n",
       "13    8300614741\n",
       "14    8000997148\n",
       "15      71774893\n",
       "16              \n",
       "17     159575368\n",
       "18      32825859\n",
       "19              \n",
       "Name: Identificacion del Contratista, dtype: object"
      ]
     },
     "execution_count": 24,
     "metadata": {},
     "output_type": "execute_result"
    }
   ],
   "source": [
    "secop['Identificacion del Contratista'].head(20)"
   ]
  },
  {
   "cell_type": "code",
   "execution_count": 25,
   "metadata": {
    "collapsed": false
   },
   "outputs": [
    {
     "data": {
      "text/plain": [
       "75154"
      ]
     },
     "execution_count": 25,
     "metadata": {},
     "output_type": "execute_result"
    }
   ],
   "source": [
    "#Numero de datos vacios\n",
    "len(np.where(secop.applymap(lambda x: x == ''))[0])"
   ]
  },
  {
   "cell_type": "code",
   "execution_count": 26,
   "metadata": {
    "collapsed": true
   },
   "outputs": [],
   "source": [
    "secop = secop.replace('', np.nan, regex=True)"
   ]
  },
  {
   "cell_type": "code",
   "execution_count": 27,
   "metadata": {
    "collapsed": false
   },
   "outputs": [
    {
     "name": "stdout",
     "output_type": "stream",
     "text": [
      "\n",
      "DATOS NULOS:\n",
      "Nivel Entidad                                         0\n",
      "Orden Entidad                                         0\n",
      "Nombre de la Entidad                                  0\n",
      "NIT de la Entidad                                 40164\n",
      "ID Tipo de Proceso                                    0\n",
      "Tipo de Proceso                                       0\n",
      "Estado del Proceso                                    0\n",
      "Causal de Otras Formas de Contratacion Directa        0\n",
      "ID Regimen de Contratacion                            0\n",
      "Regimen de Contratacion                               0\n",
      "ID Objeto a Contratar                                 0\n",
      "Objeto a Contratar                                    0\n",
      "Detalle del Objeto a Contratar                        0\n",
      "Tipo de Contrato                                      0\n",
      "Municipio Obtencion                                   0\n",
      "Municipio Entrega                                     0\n",
      "Municipios Ejecucion                                  0\n",
      "Fecha de Cargue en el SECOP                           0\n",
      "Numero de Constancia                                  0\n",
      "Numero de Proceso                                     0\n",
      "Numero del Contrato                                   0\n",
      "Cuantia Proceso                                       0\n",
      "ID Grupo                                              0\n",
      "Nombre Grupo                                          0\n",
      "ID Familia                                            0\n",
      "Nombre Familia                                        0\n",
      "ID Clase                                              0\n",
      "Nombre Clase                                          0\n",
      "ID Ajudicacion                                        0\n",
      "Tipo Identifi del Contratista                         0\n",
      "Identificacion del Contratista                    75154\n",
      "Nom Raz Social Contratista                            0\n",
      "Dpto y Muni Contratista                               0\n",
      "Tipo Doc Representante Legal                          0\n",
      "Identific del Represen Legal                          0\n",
      "Nombre del Represen Legal                             0\n",
      "Plazo de Ejec del Contrato                            0\n",
      "Rango de Ejec del Contrato                            0\n",
      "Tiempo Adiciones en Dias                              0\n",
      "Tiempo Adiciones en Meses                             0\n",
      "Compromiso Presupuestal                               0\n",
      "Cuantia Contrato                                      0\n",
      "Valor Total de Adiciones                              0\n",
      "Valor Contrato con Adiciones                          0\n",
      "Objeto del Contrato a la Firma                        0\n",
      "ID Origen de los Recursos                             0\n",
      "Origen de los Recursos                                0\n",
      "Codigo BPIN                                           0\n",
      "Proponentes Seleccionados                             0\n",
      "Calificacion Definitiva                               0\n",
      "ID Sub Unidad Ejecutora                               0\n",
      "Nombre Sub Unidad Ejecutora                           0\n",
      "Ruta Proceso en SECOP I                               0\n",
      "dtype: int64\n"
     ]
    }
   ],
   "source": [
    "nulls = secop.isnull().sum()\n",
    "print (\"\\nDATOS NULOS:\")\n",
    "print (nulls)"
   ]
  },
  {
   "cell_type": "markdown",
   "metadata": {},
   "source": [
    "## Cuantia a Contratar  - Se elimina caracter $"
   ]
  },
  {
   "cell_type": "code",
   "execution_count": 29,
   "metadata": {
    "collapsed": false
   },
   "outputs": [],
   "source": [
    "#Quitar símbolo pesos\n",
    "secop[['Cuantia Contrato']] = secop[['Cuantia Contrato']].replace({'[\\$,]':''}, regex=True)\n",
    "#secop[['Cuantia a Contratar']] = secop[['Cuantia a Contratar']].replace({'[^0-9,]':''}, regex=True)"
   ]
  },
  {
   "cell_type": "code",
   "execution_count": 30,
   "metadata": {
    "collapsed": false
   },
   "outputs": [
    {
     "data": {
      "text/plain": [
       "0"
      ]
     },
     "execution_count": 30,
     "metadata": {},
     "output_type": "execute_result"
    }
   ],
   "source": [
    "#Numero de datos vacios\n",
    "len(np.where(secop.applymap(lambda x: x == ''))[0])"
   ]
  },
  {
   "cell_type": "code",
   "execution_count": 31,
   "metadata": {
    "collapsed": false
   },
   "outputs": [],
   "source": [
    "#Convertir a float \n",
    "secop[['Cuantia Contrato']] = secop[['Cuantia Contrato']].astype(float)"
   ]
  },
  {
   "cell_type": "code",
   "execution_count": 32,
   "metadata": {
    "collapsed": false
   },
   "outputs": [
    {
     "data": {
      "text/plain": [
       "Cuantia Contrato    float64\n",
       "dtype: object"
      ]
     },
     "execution_count": 32,
     "metadata": {},
     "output_type": "execute_result"
    }
   ],
   "source": [
    "secop[['Cuantia Contrato']].dtypes"
   ]
  },
  {
   "cell_type": "code",
   "execution_count": 33,
   "metadata": {
    "collapsed": false
   },
   "outputs": [
    {
     "data": {
      "text/html": [
       "<div>\n",
       "<table border=\"1\" class=\"dataframe\">\n",
       "  <thead>\n",
       "    <tr style=\"text-align: right;\">\n",
       "      <th></th>\n",
       "      <th>Cuantia Contrato</th>\n",
       "    </tr>\n",
       "  </thead>\n",
       "  <tbody>\n",
       "    <tr>\n",
       "      <th>0</th>\n",
       "      <td>0.0</td>\n",
       "    </tr>\n",
       "    <tr>\n",
       "      <th>1</th>\n",
       "      <td>0.0</td>\n",
       "    </tr>\n",
       "    <tr>\n",
       "      <th>2</th>\n",
       "      <td>30351400.0</td>\n",
       "    </tr>\n",
       "    <tr>\n",
       "      <th>3</th>\n",
       "      <td>0.0</td>\n",
       "    </tr>\n",
       "    <tr>\n",
       "      <th>4</th>\n",
       "      <td>0.0</td>\n",
       "    </tr>\n",
       "    <tr>\n",
       "      <th>5</th>\n",
       "      <td>200000000.0</td>\n",
       "    </tr>\n",
       "    <tr>\n",
       "      <th>6</th>\n",
       "      <td>0.0</td>\n",
       "    </tr>\n",
       "    <tr>\n",
       "      <th>7</th>\n",
       "      <td>14479404.0</td>\n",
       "    </tr>\n",
       "    <tr>\n",
       "      <th>8</th>\n",
       "      <td>14000000.0</td>\n",
       "    </tr>\n",
       "    <tr>\n",
       "      <th>9</th>\n",
       "      <td>0.0</td>\n",
       "    </tr>\n",
       "    <tr>\n",
       "      <th>10</th>\n",
       "      <td>0.0</td>\n",
       "    </tr>\n",
       "    <tr>\n",
       "      <th>11</th>\n",
       "      <td>12000000.0</td>\n",
       "    </tr>\n",
       "    <tr>\n",
       "      <th>12</th>\n",
       "      <td>263542.0</td>\n",
       "    </tr>\n",
       "    <tr>\n",
       "      <th>13</th>\n",
       "      <td>69999965.0</td>\n",
       "    </tr>\n",
       "    <tr>\n",
       "      <th>14</th>\n",
       "      <td>256865202.0</td>\n",
       "    </tr>\n",
       "    <tr>\n",
       "      <th>15</th>\n",
       "      <td>22999900.0</td>\n",
       "    </tr>\n",
       "    <tr>\n",
       "      <th>16</th>\n",
       "      <td>0.0</td>\n",
       "    </tr>\n",
       "    <tr>\n",
       "      <th>17</th>\n",
       "      <td>376000.0</td>\n",
       "    </tr>\n",
       "    <tr>\n",
       "      <th>18</th>\n",
       "      <td>5313000.0</td>\n",
       "    </tr>\n",
       "    <tr>\n",
       "      <th>19</th>\n",
       "      <td>0.0</td>\n",
       "    </tr>\n",
       "  </tbody>\n",
       "</table>\n",
       "</div>"
      ],
      "text/plain": [
       "    Cuantia Contrato\n",
       "0                0.0\n",
       "1                0.0\n",
       "2         30351400.0\n",
       "3                0.0\n",
       "4                0.0\n",
       "5        200000000.0\n",
       "6                0.0\n",
       "7         14479404.0\n",
       "8         14000000.0\n",
       "9                0.0\n",
       "10               0.0\n",
       "11        12000000.0\n",
       "12          263542.0\n",
       "13        69999965.0\n",
       "14       256865202.0\n",
       "15        22999900.0\n",
       "16               0.0\n",
       "17          376000.0\n",
       "18         5313000.0\n",
       "19               0.0"
      ]
     },
     "execution_count": 33,
     "metadata": {},
     "output_type": "execute_result"
    }
   ],
   "source": [
    "secop[['Cuantia Contrato']].head(20)"
   ]
  },
  {
   "cell_type": "markdown",
   "metadata": {},
   "source": [
    "## Valor Contrato con Adiciones - Se elimina caracter $"
   ]
  },
  {
   "cell_type": "code",
   "execution_count": 34,
   "metadata": {
    "collapsed": true
   },
   "outputs": [],
   "source": [
    "#Quitar símbolo pesos\n",
    "secop[['Valor Contrato con Adiciones']] = secop[['Valor Contrato con Adiciones']].replace({'[\\$,]':''}, regex=True)"
   ]
  },
  {
   "cell_type": "code",
   "execution_count": 35,
   "metadata": {
    "collapsed": true
   },
   "outputs": [],
   "source": [
    "#Convertir a float \n",
    "secop[['Valor Contrato con Adiciones']] = secop[['Valor Contrato con Adiciones']].astype(float)"
   ]
  },
  {
   "cell_type": "code",
   "execution_count": 36,
   "metadata": {
    "collapsed": false
   },
   "outputs": [
    {
     "data": {
      "text/plain": [
       "0"
      ]
     },
     "execution_count": 36,
     "metadata": {},
     "output_type": "execute_result"
    }
   ],
   "source": [
    "#Numero de datos vacios\n",
    "len(np.where(secop.applymap(lambda x: x == ''))[0])"
   ]
  },
  {
   "cell_type": "code",
   "execution_count": 37,
   "metadata": {
    "collapsed": false
   },
   "outputs": [
    {
     "data": {
      "text/plain": [
       "Valor Contrato con Adiciones    float64\n",
       "dtype: object"
      ]
     },
     "execution_count": 37,
     "metadata": {},
     "output_type": "execute_result"
    }
   ],
   "source": [
    "secop[['Valor Contrato con Adiciones']].dtypes"
   ]
  },
  {
   "cell_type": "code",
   "execution_count": 38,
   "metadata": {
    "collapsed": false
   },
   "outputs": [
    {
     "data": {
      "text/html": [
       "<div>\n",
       "<table border=\"1\" class=\"dataframe\">\n",
       "  <thead>\n",
       "    <tr style=\"text-align: right;\">\n",
       "      <th></th>\n",
       "      <th>Valor Contrato con Adiciones</th>\n",
       "    </tr>\n",
       "  </thead>\n",
       "  <tbody>\n",
       "    <tr>\n",
       "      <th>0</th>\n",
       "      <td>0.0</td>\n",
       "    </tr>\n",
       "    <tr>\n",
       "      <th>1</th>\n",
       "      <td>0.0</td>\n",
       "    </tr>\n",
       "    <tr>\n",
       "      <th>2</th>\n",
       "      <td>30351400.0</td>\n",
       "    </tr>\n",
       "    <tr>\n",
       "      <th>3</th>\n",
       "      <td>0.0</td>\n",
       "    </tr>\n",
       "    <tr>\n",
       "      <th>4</th>\n",
       "      <td>0.0</td>\n",
       "    </tr>\n",
       "    <tr>\n",
       "      <th>5</th>\n",
       "      <td>200000000.0</td>\n",
       "    </tr>\n",
       "    <tr>\n",
       "      <th>6</th>\n",
       "      <td>0.0</td>\n",
       "    </tr>\n",
       "    <tr>\n",
       "      <th>7</th>\n",
       "      <td>14479404.0</td>\n",
       "    </tr>\n",
       "    <tr>\n",
       "      <th>8</th>\n",
       "      <td>14000000.0</td>\n",
       "    </tr>\n",
       "    <tr>\n",
       "      <th>9</th>\n",
       "      <td>0.0</td>\n",
       "    </tr>\n",
       "    <tr>\n",
       "      <th>10</th>\n",
       "      <td>0.0</td>\n",
       "    </tr>\n",
       "    <tr>\n",
       "      <th>11</th>\n",
       "      <td>12000000.0</td>\n",
       "    </tr>\n",
       "    <tr>\n",
       "      <th>12</th>\n",
       "      <td>263542.0</td>\n",
       "    </tr>\n",
       "    <tr>\n",
       "      <th>13</th>\n",
       "      <td>69999965.0</td>\n",
       "    </tr>\n",
       "    <tr>\n",
       "      <th>14</th>\n",
       "      <td>256865202.0</td>\n",
       "    </tr>\n",
       "    <tr>\n",
       "      <th>15</th>\n",
       "      <td>44731400.0</td>\n",
       "    </tr>\n",
       "    <tr>\n",
       "      <th>16</th>\n",
       "      <td>0.0</td>\n",
       "    </tr>\n",
       "    <tr>\n",
       "      <th>17</th>\n",
       "      <td>376000.0</td>\n",
       "    </tr>\n",
       "    <tr>\n",
       "      <th>18</th>\n",
       "      <td>5313000.0</td>\n",
       "    </tr>\n",
       "    <tr>\n",
       "      <th>19</th>\n",
       "      <td>0.0</td>\n",
       "    </tr>\n",
       "  </tbody>\n",
       "</table>\n",
       "</div>"
      ],
      "text/plain": [
       "    Valor Contrato con Adiciones\n",
       "0                            0.0\n",
       "1                            0.0\n",
       "2                     30351400.0\n",
       "3                            0.0\n",
       "4                            0.0\n",
       "5                    200000000.0\n",
       "6                            0.0\n",
       "7                     14479404.0\n",
       "8                     14000000.0\n",
       "9                            0.0\n",
       "10                           0.0\n",
       "11                    12000000.0\n",
       "12                      263542.0\n",
       "13                    69999965.0\n",
       "14                   256865202.0\n",
       "15                    44731400.0\n",
       "16                           0.0\n",
       "17                      376000.0\n",
       "18                     5313000.0\n",
       "19                           0.0"
      ]
     },
     "execution_count": 38,
     "metadata": {},
     "output_type": "execute_result"
    }
   ],
   "source": [
    "secop[['Valor Contrato con Adiciones']].head(20)"
   ]
  },
  {
   "cell_type": "code",
   "execution_count": 39,
   "metadata": {
    "collapsed": false
   },
   "outputs": [
    {
     "data": {
      "text/html": [
       "<div>\n",
       "<table border=\"1\" class=\"dataframe\">\n",
       "  <thead>\n",
       "    <tr style=\"text-align: right;\">\n",
       "      <th></th>\n",
       "      <th>Nivel Entidad</th>\n",
       "      <th>Orden Entidad</th>\n",
       "      <th>Nombre de la Entidad</th>\n",
       "      <th>NIT de la Entidad</th>\n",
       "      <th>ID Tipo de Proceso</th>\n",
       "      <th>Tipo de Proceso</th>\n",
       "      <th>Estado del Proceso</th>\n",
       "      <th>Causal de Otras Formas de Contratacion Directa</th>\n",
       "      <th>ID Regimen de Contratacion</th>\n",
       "      <th>Regimen de Contratacion</th>\n",
       "      <th>ID Objeto a Contratar</th>\n",
       "      <th>Objeto a Contratar</th>\n",
       "      <th>Detalle del Objeto a Contratar</th>\n",
       "      <th>Tipo de Contrato</th>\n",
       "      <th>Municipio Obtencion</th>\n",
       "      <th>Municipio Entrega</th>\n",
       "      <th>Municipios Ejecucion</th>\n",
       "      <th>Fecha de Cargue en el SECOP</th>\n",
       "      <th>Numero de Constancia</th>\n",
       "      <th>Numero de Proceso</th>\n",
       "      <th>...</th>\n",
       "      <th>Tipo Doc Representante Legal</th>\n",
       "      <th>Identific del Represen Legal</th>\n",
       "      <th>Nombre del Represen Legal</th>\n",
       "      <th>Plazo de Ejec del Contrato</th>\n",
       "      <th>Rango de Ejec del Contrato</th>\n",
       "      <th>Tiempo Adiciones en Dias</th>\n",
       "      <th>Tiempo Adiciones en Meses</th>\n",
       "      <th>Compromiso Presupuestal</th>\n",
       "      <th>Cuantia Contrato</th>\n",
       "      <th>Valor Total de Adiciones</th>\n",
       "      <th>Valor Contrato con Adiciones</th>\n",
       "      <th>Objeto del Contrato a la Firma</th>\n",
       "      <th>ID Origen de los Recursos</th>\n",
       "      <th>Origen de los Recursos</th>\n",
       "      <th>Codigo BPIN</th>\n",
       "      <th>Proponentes Seleccionados</th>\n",
       "      <th>Calificacion Definitiva</th>\n",
       "      <th>ID Sub Unidad Ejecutora</th>\n",
       "      <th>Nombre Sub Unidad Ejecutora</th>\n",
       "      <th>Ruta Proceso en SECOP I</th>\n",
       "    </tr>\n",
       "  </thead>\n",
       "  <tbody>\n",
       "    <tr>\n",
       "      <th>0</th>\n",
       "      <td>NACIONAL</td>\n",
       "      <td>NACIONAL CENTRALIZADO</td>\n",
       "      <td>INSTITUTO NACIONAL DE VÍAS (INVIAS)</td>\n",
       "      <td>800215807</td>\n",
       "      <td>9</td>\n",
       "      <td>Subasta</td>\n",
       "      <td>Terminado Anormalmente después de Convocado</td>\n",
       "      <td>Ninguna</td>\n",
       "      <td>3</td>\n",
       "      <td>Estatuto General de Contratación</td>\n",
       "      <td>30000000</td>\n",
       "      <td>Componentes y Suministros para Estructuras, Ed...</td>\n",
       "      <td>SUMINISTRO DE MEZCLA ASFALTICA VIA 2501A  PAST...</td>\n",
       "      <td>Suministro</td>\n",
       "      <td>Popayán</td>\n",
       "      <td>Popayán</td>\n",
       "      <td>No definido</td>\n",
       "      <td>06/21/2011</td>\n",
       "      <td>11-9-273604</td>\n",
       "      <td>SA-SIP-DT-CAU-013-2011</td>\n",
       "      <td>...</td>\n",
       "      <td>No Definido</td>\n",
       "      <td>No Definido</td>\n",
       "      <td>No Definido</td>\n",
       "      <td>0.0</td>\n",
       "      <td>No</td>\n",
       "      <td>0</td>\n",
       "      <td>0</td>\n",
       "      <td>No registra</td>\n",
       "      <td>0.0</td>\n",
       "      <td>$0.00</td>\n",
       "      <td>0.0</td>\n",
       "      <td>No definido</td>\n",
       "      <td>0</td>\n",
       "      <td>No definido</td>\n",
       "      <td>-1</td>\n",
       "      <td>No definido</td>\n",
       "      <td>No definido</td>\n",
       "      <td>0</td>\n",
       "      <td>No definida</td>\n",
       "      <td>https://www.contratos.gov.co/consultas/detalle...</td>\n",
       "    </tr>\n",
       "    <tr>\n",
       "      <th>1</th>\n",
       "      <td>NACIONAL</td>\n",
       "      <td>NACIONAL DESCENTRALIZADO</td>\n",
       "      <td>DEPARTAMENTO ADMINISTRATIVO DEL DEPORTE  LA RE...</td>\n",
       "      <td>899999306</td>\n",
       "      <td>11</td>\n",
       "      <td>Selección Abreviada de Menor Cuantía (Ley 1150...</td>\n",
       "      <td>Terminado Anormalmente después de Convocado</td>\n",
       "      <td>Ninguna</td>\n",
       "      <td>3</td>\n",
       "      <td>Estatuto General de Contratación</td>\n",
       "      <td>53000000</td>\n",
       "      <td>Ropa, Maletas y Productos de Aseo Personal</td>\n",
       "      <td>Adquisición de 770 kits uniformes deportivos  ...</td>\n",
       "      <td>Compraventa</td>\n",
       "      <td>Bogotá D.C.</td>\n",
       "      <td>Bogotá D.C.</td>\n",
       "      <td>No definido</td>\n",
       "      <td>07/28/2011</td>\n",
       "      <td>11-11-551190</td>\n",
       "      <td>SAMC009-2011</td>\n",
       "      <td>...</td>\n",
       "      <td>No Definido</td>\n",
       "      <td>No Definido</td>\n",
       "      <td>No Definido</td>\n",
       "      <td>0.0</td>\n",
       "      <td>No</td>\n",
       "      <td>0</td>\n",
       "      <td>0</td>\n",
       "      <td>No registra</td>\n",
       "      <td>0.0</td>\n",
       "      <td>$0.00</td>\n",
       "      <td>0.0</td>\n",
       "      <td>No definido</td>\n",
       "      <td>0</td>\n",
       "      <td>No definido</td>\n",
       "      <td>-1</td>\n",
       "      <td>No definido</td>\n",
       "      <td>No definido</td>\n",
       "      <td>0</td>\n",
       "      <td>No definida</td>\n",
       "      <td>https://www.contratos.gov.co/consultas/detalle...</td>\n",
       "    </tr>\n",
       "    <tr>\n",
       "      <th>2</th>\n",
       "      <td>NACIONAL</td>\n",
       "      <td>NACIONAL DESCENTRALIZADO</td>\n",
       "      <td>SERVICIO NACIONAL DE APRENDIZAJE (SENA)</td>\n",
       "      <td>899999034</td>\n",
       "      <td>13</td>\n",
       "      <td>Contratación Mínima Cuantía</td>\n",
       "      <td>Terminado sin Liquidar</td>\n",
       "      <td>Ninguna</td>\n",
       "      <td>3</td>\n",
       "      <td>Estatuto General de Contratación</td>\n",
       "      <td>27000000</td>\n",
       "      <td>Herramientas y Maquinaria General</td>\n",
       "      <td>Contratar la compra de material de formación d...</td>\n",
       "      <td>Compraventa</td>\n",
       "      <td>Fusagasugá</td>\n",
       "      <td>Fusagasugá</td>\n",
       "      <td>Cundinamarca - Fusagasugá</td>\n",
       "      <td>12/13/2011</td>\n",
       "      <td>11-13-733627</td>\n",
       "      <td>Minima Cuantia CAE-056-2011</td>\n",
       "      <td>...</td>\n",
       "      <td>Cédula de Ciudadanía</td>\n",
       "      <td>51.704.665.</td>\n",
       "      <td>MARIA ELENA CALDAS GOMEZ.</td>\n",
       "      <td>2.0</td>\n",
       "      <td>D</td>\n",
       "      <td>0</td>\n",
       "      <td>0</td>\n",
       "      <td>No registra</td>\n",
       "      <td>30351400.0</td>\n",
       "      <td>$0.00</td>\n",
       "      <td>30351400.0</td>\n",
       "      <td>Contratar la compra de materiales de formacion...</td>\n",
       "      <td>0</td>\n",
       "      <td>No definido</td>\n",
       "      <td>-1</td>\n",
       "      <td>No definido</td>\n",
       "      <td>No definido</td>\n",
       "      <td>0</td>\n",
       "      <td>No definida</td>\n",
       "      <td>https://www.contratos.gov.co/consultas/detalle...</td>\n",
       "    </tr>\n",
       "  </tbody>\n",
       "</table>\n",
       "<p>3 rows × 53 columns</p>\n",
       "</div>"
      ],
      "text/plain": [
       "  Nivel Entidad             Orden Entidad  \\\n",
       "0      NACIONAL     NACIONAL CENTRALIZADO   \n",
       "1      NACIONAL  NACIONAL DESCENTRALIZADO   \n",
       "2      NACIONAL  NACIONAL DESCENTRALIZADO   \n",
       "\n",
       "                                Nombre de la Entidad NIT de la Entidad  \\\n",
       "0                INSTITUTO NACIONAL DE VÍAS (INVIAS)         800215807   \n",
       "1  DEPARTAMENTO ADMINISTRATIVO DEL DEPORTE  LA RE...         899999306   \n",
       "2            SERVICIO NACIONAL DE APRENDIZAJE (SENA)         899999034   \n",
       "\n",
       "   ID Tipo de Proceso                                    Tipo de Proceso  \\\n",
       "0                   9                                            Subasta   \n",
       "1                  11  Selección Abreviada de Menor Cuantía (Ley 1150...   \n",
       "2                  13                        Contratación Mínima Cuantía   \n",
       "\n",
       "                            Estado del Proceso  \\\n",
       "0  Terminado Anormalmente después de Convocado   \n",
       "1  Terminado Anormalmente después de Convocado   \n",
       "2                       Terminado sin Liquidar   \n",
       "\n",
       "  Causal de Otras Formas de Contratacion Directa  ID Regimen de Contratacion  \\\n",
       "0                                        Ninguna                           3   \n",
       "1                                        Ninguna                           3   \n",
       "2                                        Ninguna                           3   \n",
       "\n",
       "            Regimen de Contratacion  ID Objeto a Contratar  \\\n",
       "0  Estatuto General de Contratación               30000000   \n",
       "1  Estatuto General de Contratación               53000000   \n",
       "2  Estatuto General de Contratación               27000000   \n",
       "\n",
       "                                  Objeto a Contratar  \\\n",
       "0  Componentes y Suministros para Estructuras, Ed...   \n",
       "1         Ropa, Maletas y Productos de Aseo Personal   \n",
       "2                  Herramientas y Maquinaria General   \n",
       "\n",
       "                      Detalle del Objeto a Contratar Tipo de Contrato  \\\n",
       "0  SUMINISTRO DE MEZCLA ASFALTICA VIA 2501A  PAST...       Suministro   \n",
       "1  Adquisición de 770 kits uniformes deportivos  ...      Compraventa   \n",
       "2  Contratar la compra de material de formación d...      Compraventa   \n",
       "\n",
       "  Municipio Obtencion Municipio Entrega       Municipios Ejecucion  \\\n",
       "0             Popayán           Popayán                No definido   \n",
       "1         Bogotá D.C.       Bogotá D.C.                No definido   \n",
       "2          Fusagasugá        Fusagasugá  Cundinamarca - Fusagasugá   \n",
       "\n",
       "  Fecha de Cargue en el SECOP Numero de Constancia  \\\n",
       "0                  06/21/2011          11-9-273604   \n",
       "1                  07/28/2011         11-11-551190   \n",
       "2                  12/13/2011         11-13-733627   \n",
       "\n",
       "             Numero de Proceso  \\\n",
       "0       SA-SIP-DT-CAU-013-2011   \n",
       "1                 SAMC009-2011   \n",
       "2  Minima Cuantia CAE-056-2011   \n",
       "\n",
       "                         ...                          \\\n",
       "0                        ...                           \n",
       "1                        ...                           \n",
       "2                        ...                           \n",
       "\n",
       "  Tipo Doc Representante Legal Identific del Represen Legal  \\\n",
       "0                  No Definido                  No Definido   \n",
       "1                  No Definido                  No Definido   \n",
       "2         Cédula de Ciudadanía                  51.704.665.   \n",
       "\n",
       "   Nombre del Represen Legal Plazo de Ejec del Contrato  \\\n",
       "0                No Definido                        0.0   \n",
       "1                No Definido                        0.0   \n",
       "2  MARIA ELENA CALDAS GOMEZ.                        2.0   \n",
       "\n",
       "   Rango de Ejec del Contrato Tiempo Adiciones en Dias  \\\n",
       "0                          No                        0   \n",
       "1                          No                        0   \n",
       "2                           D                        0   \n",
       "\n",
       "   Tiempo Adiciones en Meses Compromiso Presupuestal  Cuantia Contrato  \\\n",
       "0                          0             No registra               0.0   \n",
       "1                          0             No registra               0.0   \n",
       "2                          0             No registra        30351400.0   \n",
       "\n",
       "  Valor Total de Adiciones Valor Contrato con Adiciones  \\\n",
       "0                    $0.00                          0.0   \n",
       "1                    $0.00                          0.0   \n",
       "2                    $0.00                   30351400.0   \n",
       "\n",
       "                      Objeto del Contrato a la Firma  \\\n",
       "0                                        No definido   \n",
       "1                                        No definido   \n",
       "2  Contratar la compra de materiales de formacion...   \n",
       "\n",
       "  ID Origen de los Recursos Origen de los Recursos Codigo BPIN  \\\n",
       "0                         0            No definido          -1   \n",
       "1                         0            No definido          -1   \n",
       "2                         0            No definido          -1   \n",
       "\n",
       "  Proponentes Seleccionados  Calificacion Definitiva ID Sub Unidad Ejecutora  \\\n",
       "0               No definido              No definido                       0   \n",
       "1               No definido              No definido                       0   \n",
       "2               No definido              No definido                       0   \n",
       "\n",
       "   Nombre Sub Unidad Ejecutora  \\\n",
       "0                  No definida   \n",
       "1                  No definida   \n",
       "2                  No definida   \n",
       "\n",
       "                             Ruta Proceso en SECOP I  \n",
       "0  https://www.contratos.gov.co/consultas/detalle...  \n",
       "1  https://www.contratos.gov.co/consultas/detalle...  \n",
       "2  https://www.contratos.gov.co/consultas/detalle...  \n",
       "\n",
       "[3 rows x 53 columns]"
      ]
     },
     "execution_count": 39,
     "metadata": {},
     "output_type": "execute_result"
    }
   ],
   "source": [
    "secop.head(3)"
   ]
  },
  {
   "cell_type": "markdown",
   "metadata": {},
   "source": [
    "## Eliminar los nuevos datos nulos\n",
    "#### En otras palabras: Eliminar los datos invalidos"
   ]
  },
  {
   "cell_type": "code",
   "execution_count": 40,
   "metadata": {
    "collapsed": true
   },
   "outputs": [],
   "source": [
    "secop = secop.dropna()                   "
   ]
  },
  {
   "cell_type": "code",
   "execution_count": 41,
   "metadata": {
    "collapsed": true
   },
   "outputs": [],
   "source": [
    "shape = secop.shape\n",
    "dtypes = secop.dtypes\n",
    "nulls = secop.isnull().sum()"
   ]
  },
  {
   "cell_type": "code",
   "execution_count": 42,
   "metadata": {
    "collapsed": false
   },
   "outputs": [
    {
     "name": "stdout",
     "output_type": "stream",
     "text": [
      "FORMA DE LOS DATOS:\n",
      "(161670, 53)\n",
      "\n",
      "TIPOS DE DATOS:\n",
      "Nivel Entidad                                      object\n",
      "Orden Entidad                                      object\n",
      "Nombre de la Entidad                               object\n",
      "NIT de la Entidad                                  object\n",
      "ID Tipo de Proceso                                  int64\n",
      "Tipo de Proceso                                    object\n",
      "Estado del Proceso                                 object\n",
      "Causal de Otras Formas de Contratacion Directa     object\n",
      "ID Regimen de Contratacion                          int64\n",
      "Regimen de Contratacion                            object\n",
      "ID Objeto a Contratar                               int64\n",
      "Objeto a Contratar                                 object\n",
      "Detalle del Objeto a Contratar                     object\n",
      "Tipo de Contrato                                   object\n",
      "Municipio Obtencion                                object\n",
      "Municipio Entrega                                  object\n",
      "Municipios Ejecucion                               object\n",
      "Fecha de Cargue en el SECOP                        object\n",
      "Numero de Constancia                               object\n",
      "Numero de Proceso                                  object\n",
      "Numero del Contrato                                object\n",
      "Cuantia Proceso                                    object\n",
      "ID Grupo                                           object\n",
      "Nombre Grupo                                       object\n",
      "ID Familia                                          int64\n",
      "Nombre Familia                                     object\n",
      "ID Clase                                            int64\n",
      "Nombre Clase                                       object\n",
      "ID Ajudicacion                                      int64\n",
      "Tipo Identifi del Contratista                      object\n",
      "Identificacion del Contratista                     object\n",
      "Nom Raz Social Contratista                         object\n",
      "Dpto y Muni Contratista                            object\n",
      "Tipo Doc Representante Legal                       object\n",
      "Identific del Represen Legal                       object\n",
      "Nombre del Represen Legal                          object\n",
      "Plazo de Ejec del Contrato                        float64\n",
      "Rango de Ejec del Contrato                         object\n",
      "Tiempo Adiciones en Dias                            int64\n",
      "Tiempo Adiciones en Meses                           int64\n",
      "Compromiso Presupuestal                            object\n",
      "Cuantia Contrato                                  float64\n",
      "Valor Total de Adiciones                           object\n",
      "Valor Contrato con Adiciones                      float64\n",
      "Objeto del Contrato a la Firma                     object\n",
      "ID Origen de los Recursos                           int64\n",
      "Origen de los Recursos                             object\n",
      "Codigo BPIN                                         int64\n",
      "Proponentes Seleccionados                          object\n",
      "Calificacion Definitiva                            object\n",
      "ID Sub Unidad Ejecutora                            object\n",
      "Nombre Sub Unidad Ejecutora                        object\n",
      "Ruta Proceso en SECOP I                            object\n",
      "dtype: object\n",
      "\n",
      "DATOS NULOS:\n",
      "Nivel Entidad                                     0\n",
      "Orden Entidad                                     0\n",
      "Nombre de la Entidad                              0\n",
      "NIT de la Entidad                                 0\n",
      "ID Tipo de Proceso                                0\n",
      "Tipo de Proceso                                   0\n",
      "Estado del Proceso                                0\n",
      "Causal de Otras Formas de Contratacion Directa    0\n",
      "ID Regimen de Contratacion                        0\n",
      "Regimen de Contratacion                           0\n",
      "ID Objeto a Contratar                             0\n",
      "Objeto a Contratar                                0\n",
      "Detalle del Objeto a Contratar                    0\n",
      "Tipo de Contrato                                  0\n",
      "Municipio Obtencion                               0\n",
      "Municipio Entrega                                 0\n",
      "Municipios Ejecucion                              0\n",
      "Fecha de Cargue en el SECOP                       0\n",
      "Numero de Constancia                              0\n",
      "Numero de Proceso                                 0\n",
      "Numero del Contrato                               0\n",
      "Cuantia Proceso                                   0\n",
      "ID Grupo                                          0\n",
      "Nombre Grupo                                      0\n",
      "ID Familia                                        0\n",
      "Nombre Familia                                    0\n",
      "ID Clase                                          0\n",
      "Nombre Clase                                      0\n",
      "ID Ajudicacion                                    0\n",
      "Tipo Identifi del Contratista                     0\n",
      "Identificacion del Contratista                    0\n",
      "Nom Raz Social Contratista                        0\n",
      "Dpto y Muni Contratista                           0\n",
      "Tipo Doc Representante Legal                      0\n",
      "Identific del Represen Legal                      0\n",
      "Nombre del Represen Legal                         0\n",
      "Plazo de Ejec del Contrato                        0\n",
      "Rango de Ejec del Contrato                        0\n",
      "Tiempo Adiciones en Dias                          0\n",
      "Tiempo Adiciones en Meses                         0\n",
      "Compromiso Presupuestal                           0\n",
      "Cuantia Contrato                                  0\n",
      "Valor Total de Adiciones                          0\n",
      "Valor Contrato con Adiciones                      0\n",
      "Objeto del Contrato a la Firma                    0\n",
      "ID Origen de los Recursos                         0\n",
      "Origen de los Recursos                            0\n",
      "Codigo BPIN                                       0\n",
      "Proponentes Seleccionados                         0\n",
      "Calificacion Definitiva                           0\n",
      "ID Sub Unidad Ejecutora                           0\n",
      "Nombre Sub Unidad Ejecutora                       0\n",
      "Ruta Proceso en SECOP I                           0\n",
      "dtype: int64\n"
     ]
    }
   ],
   "source": [
    "print (\"FORMA DE LOS DATOS:\")\n",
    "print (shape)\n",
    "print (\"\\nTIPOS DE DATOS:\")\n",
    "print (dtypes)\n",
    "print (\"\\nDATOS NULOS:\")\n",
    "print (nulls)\n",
    "#print (\"\\nDATOS REPETIDOS:\", duplicates_count)"
   ]
  },
  {
   "cell_type": "markdown",
   "metadata": {},
   "source": [
    "## Fecha de Cargue en SECOP - Se da formato de fecha"
   ]
  },
  {
   "cell_type": "code",
   "execution_count": 43,
   "metadata": {
    "collapsed": false
   },
   "outputs": [
    {
     "data": {
      "text/plain": [
       "'Nivel Entidad'"
      ]
     },
     "execution_count": 43,
     "metadata": {},
     "output_type": "execute_result"
    }
   ],
   "source": [
    "#Extraer llave de la columna\n",
    "key_fecha_cargue_secop = secop.keys()[0]\n",
    "key_fecha_cargue_secop"
   ]
  },
  {
   "cell_type": "code",
   "execution_count": 44,
   "metadata": {
    "collapsed": false
   },
   "outputs": [],
   "source": [
    "secop[key_fecha_cargue_secop] = secop[key_fecha_cargue_secop].apply(pd.to_datetime,errors='coerce')"
   ]
  },
  {
   "cell_type": "code",
   "execution_count": 45,
   "metadata": {
    "collapsed": false
   },
   "outputs": [
    {
     "data": {
      "text/html": [
       "<div>\n",
       "<table border=\"1\" class=\"dataframe\">\n",
       "  <thead>\n",
       "    <tr style=\"text-align: right;\">\n",
       "      <th></th>\n",
       "      <th>Nivel Entidad</th>\n",
       "      <th>Orden Entidad</th>\n",
       "      <th>Nombre de la Entidad</th>\n",
       "      <th>NIT de la Entidad</th>\n",
       "      <th>ID Tipo de Proceso</th>\n",
       "      <th>Tipo de Proceso</th>\n",
       "      <th>Estado del Proceso</th>\n",
       "      <th>Causal de Otras Formas de Contratacion Directa</th>\n",
       "      <th>ID Regimen de Contratacion</th>\n",
       "      <th>Regimen de Contratacion</th>\n",
       "      <th>ID Objeto a Contratar</th>\n",
       "      <th>Objeto a Contratar</th>\n",
       "      <th>Detalle del Objeto a Contratar</th>\n",
       "      <th>Tipo de Contrato</th>\n",
       "      <th>Municipio Obtencion</th>\n",
       "      <th>Municipio Entrega</th>\n",
       "      <th>Municipios Ejecucion</th>\n",
       "      <th>Fecha de Cargue en el SECOP</th>\n",
       "      <th>Numero de Constancia</th>\n",
       "      <th>Numero de Proceso</th>\n",
       "      <th>...</th>\n",
       "      <th>Tipo Doc Representante Legal</th>\n",
       "      <th>Identific del Represen Legal</th>\n",
       "      <th>Nombre del Represen Legal</th>\n",
       "      <th>Plazo de Ejec del Contrato</th>\n",
       "      <th>Rango de Ejec del Contrato</th>\n",
       "      <th>Tiempo Adiciones en Dias</th>\n",
       "      <th>Tiempo Adiciones en Meses</th>\n",
       "      <th>Compromiso Presupuestal</th>\n",
       "      <th>Cuantia Contrato</th>\n",
       "      <th>Valor Total de Adiciones</th>\n",
       "      <th>Valor Contrato con Adiciones</th>\n",
       "      <th>Objeto del Contrato a la Firma</th>\n",
       "      <th>ID Origen de los Recursos</th>\n",
       "      <th>Origen de los Recursos</th>\n",
       "      <th>Codigo BPIN</th>\n",
       "      <th>Proponentes Seleccionados</th>\n",
       "      <th>Calificacion Definitiva</th>\n",
       "      <th>ID Sub Unidad Ejecutora</th>\n",
       "      <th>Nombre Sub Unidad Ejecutora</th>\n",
       "      <th>Ruta Proceso en SECOP I</th>\n",
       "    </tr>\n",
       "  </thead>\n",
       "  <tbody>\n",
       "    <tr>\n",
       "      <th>2</th>\n",
       "      <td>NaT</td>\n",
       "      <td>NACIONAL DESCENTRALIZADO</td>\n",
       "      <td>SERVICIO NACIONAL DE APRENDIZAJE (SENA)</td>\n",
       "      <td>899999034</td>\n",
       "      <td>13</td>\n",
       "      <td>Contratación Mínima Cuantía</td>\n",
       "      <td>Terminado sin Liquidar</td>\n",
       "      <td>Ninguna</td>\n",
       "      <td>3</td>\n",
       "      <td>Estatuto General de Contratación</td>\n",
       "      <td>27000000</td>\n",
       "      <td>Herramientas y Maquinaria General</td>\n",
       "      <td>Contratar la compra de material de formación d...</td>\n",
       "      <td>Compraventa</td>\n",
       "      <td>Fusagasugá</td>\n",
       "      <td>Fusagasugá</td>\n",
       "      <td>Cundinamarca - Fusagasugá</td>\n",
       "      <td>12/13/2011</td>\n",
       "      <td>11-13-733627</td>\n",
       "      <td>Minima Cuantia CAE-056-2011</td>\n",
       "      <td>...</td>\n",
       "      <td>Cédula de Ciudadanía</td>\n",
       "      <td>51.704.665.</td>\n",
       "      <td>MARIA ELENA CALDAS GOMEZ.</td>\n",
       "      <td>2.0</td>\n",
       "      <td>D</td>\n",
       "      <td>0</td>\n",
       "      <td>0</td>\n",
       "      <td>No registra</td>\n",
       "      <td>30351400.0</td>\n",
       "      <td>$0.00</td>\n",
       "      <td>30351400.0</td>\n",
       "      <td>Contratar la compra de materiales de formacion...</td>\n",
       "      <td>0</td>\n",
       "      <td>No definido</td>\n",
       "      <td>-1</td>\n",
       "      <td>No definido</td>\n",
       "      <td>No definido</td>\n",
       "      <td>0</td>\n",
       "      <td>No definida</td>\n",
       "      <td>https://www.contratos.gov.co/consultas/detalle...</td>\n",
       "    </tr>\n",
       "    <tr>\n",
       "      <th>5</th>\n",
       "      <td>NaT</td>\n",
       "      <td>TERRITORIAL DEPARTAMENTAL CENTRALIZADO</td>\n",
       "      <td>ANTIOQUIA - GOBERNACIÓN</td>\n",
       "      <td>8909002860</td>\n",
       "      <td>12</td>\n",
       "      <td>Contratación Directa (Ley 1150 de 2007)</td>\n",
       "      <td>Celebrado</td>\n",
       "      <td>Contratos Interadministrativos (Literal C)</td>\n",
       "      <td>3</td>\n",
       "      <td>Estatuto General de Contratación</td>\n",
       "      <td>72000000</td>\n",
       "      <td>Servicios de Edificación, Construcción de Inst...</td>\n",
       "      <td>MANTENIMIENTO Y EL MEJORAMIENTO DE LAS VÍAS TE...</td>\n",
       "      <td>Obra</td>\n",
       "      <td>No definido</td>\n",
       "      <td>No definido</td>\n",
       "      <td>Antioquia - El Carmen de Viboral</td>\n",
       "      <td>02/08/2011</td>\n",
       "      <td>11-12-441177</td>\n",
       "      <td>2010-CF-20-055</td>\n",
       "      <td>...</td>\n",
       "      <td>Cédula de Ciudadanía</td>\n",
       "      <td>71112075</td>\n",
       "      <td>JOAQUIN DARIO DUQUE ZULUAGA</td>\n",
       "      <td>8.0</td>\n",
       "      <td>M</td>\n",
       "      <td>0</td>\n",
       "      <td>0</td>\n",
       "      <td>No registra</td>\n",
       "      <td>200000000.0</td>\n",
       "      <td>$0.00</td>\n",
       "      <td>200000000.0</td>\n",
       "      <td>MANTENIMIENTO Y EL MEJORAMIENTO DE LAS VÍAS TE...</td>\n",
       "      <td>0</td>\n",
       "      <td>No definido</td>\n",
       "      <td>-1</td>\n",
       "      <td>No definido</td>\n",
       "      <td>No definido</td>\n",
       "      <td>0</td>\n",
       "      <td>No definida</td>\n",
       "      <td>https://www.contratos.gov.co/consultas/detalle...</td>\n",
       "    </tr>\n",
       "    <tr>\n",
       "      <th>7</th>\n",
       "      <td>NaT</td>\n",
       "      <td>NACIONAL DESCENTRALIZADO</td>\n",
       "      <td>SERVICIO NACIONAL DE APRENDIZAJE (SENA)</td>\n",
       "      <td>899999034</td>\n",
       "      <td>12</td>\n",
       "      <td>Contratación Directa (Ley 1150 de 2007)</td>\n",
       "      <td>Celebrado</td>\n",
       "      <td>Prestación de Servicios Profesionales y de Apo...</td>\n",
       "      <td>3</td>\n",
       "      <td>Estatuto General de Contratación</td>\n",
       "      <td>86000000</td>\n",
       "      <td>Servicios Educativos y de Formación</td>\n",
       "      <td>Prestar sus servicios de carácter temporal com...</td>\n",
       "      <td>Prestación de Servicios</td>\n",
       "      <td>No definido</td>\n",
       "      <td>No definido</td>\n",
       "      <td>Vichada - Puerto Carreño</td>\n",
       "      <td>10/25/2011</td>\n",
       "      <td>11-12-664737</td>\n",
       "      <td>RV-CPTA-018</td>\n",
       "      <td>...</td>\n",
       "      <td>Cédula de Ciudadanía</td>\n",
       "      <td>17.339.685</td>\n",
       "      <td>HEBERT DANILO DOMINGUEZ CESPEDES</td>\n",
       "      <td>5.0</td>\n",
       "      <td>M</td>\n",
       "      <td>0</td>\n",
       "      <td>0</td>\n",
       "      <td>No registra</td>\n",
       "      <td>14479404.0</td>\n",
       "      <td>$0.00</td>\n",
       "      <td>14479404.0</td>\n",
       "      <td>Prestar sus servicios de carácter temporal com...</td>\n",
       "      <td>0</td>\n",
       "      <td>No definido</td>\n",
       "      <td>-1</td>\n",
       "      <td>No definido</td>\n",
       "      <td>No definido</td>\n",
       "      <td>0</td>\n",
       "      <td>No definida</td>\n",
       "      <td>https://www.contratos.gov.co/consultas/detalle...</td>\n",
       "    </tr>\n",
       "  </tbody>\n",
       "</table>\n",
       "<p>3 rows × 53 columns</p>\n",
       "</div>"
      ],
      "text/plain": [
       "  Nivel Entidad                           Orden Entidad  \\\n",
       "2           NaT                NACIONAL DESCENTRALIZADO   \n",
       "5           NaT  TERRITORIAL DEPARTAMENTAL CENTRALIZADO   \n",
       "7           NaT                NACIONAL DESCENTRALIZADO   \n",
       "\n",
       "                      Nombre de la Entidad NIT de la Entidad  \\\n",
       "2  SERVICIO NACIONAL DE APRENDIZAJE (SENA)         899999034   \n",
       "5                  ANTIOQUIA - GOBERNACIÓN        8909002860   \n",
       "7  SERVICIO NACIONAL DE APRENDIZAJE (SENA)         899999034   \n",
       "\n",
       "   ID Tipo de Proceso                          Tipo de Proceso  \\\n",
       "2                  13              Contratación Mínima Cuantía   \n",
       "5                  12  Contratación Directa (Ley 1150 de 2007)   \n",
       "7                  12  Contratación Directa (Ley 1150 de 2007)   \n",
       "\n",
       "       Estado del Proceso     Causal de Otras Formas de Contratacion Directa  \\\n",
       "2  Terminado sin Liquidar                                            Ninguna   \n",
       "5               Celebrado         Contratos Interadministrativos (Literal C)   \n",
       "7               Celebrado  Prestación de Servicios Profesionales y de Apo...   \n",
       "\n",
       "   ID Regimen de Contratacion           Regimen de Contratacion  \\\n",
       "2                           3  Estatuto General de Contratación   \n",
       "5                           3  Estatuto General de Contratación   \n",
       "7                           3  Estatuto General de Contratación   \n",
       "\n",
       "   ID Objeto a Contratar                                 Objeto a Contratar  \\\n",
       "2               27000000                  Herramientas y Maquinaria General   \n",
       "5               72000000  Servicios de Edificación, Construcción de Inst...   \n",
       "7               86000000                Servicios Educativos y de Formación   \n",
       "\n",
       "                      Detalle del Objeto a Contratar         Tipo de Contrato  \\\n",
       "2  Contratar la compra de material de formación d...              Compraventa   \n",
       "5  MANTENIMIENTO Y EL MEJORAMIENTO DE LAS VÍAS TE...                     Obra   \n",
       "7  Prestar sus servicios de carácter temporal com...  Prestación de Servicios   \n",
       "\n",
       "  Municipio Obtencion Municipio Entrega              Municipios Ejecucion  \\\n",
       "2          Fusagasugá        Fusagasugá         Cundinamarca - Fusagasugá   \n",
       "5         No definido       No definido  Antioquia - El Carmen de Viboral   \n",
       "7         No definido       No definido          Vichada - Puerto Carreño   \n",
       "\n",
       "  Fecha de Cargue en el SECOP Numero de Constancia  \\\n",
       "2                  12/13/2011         11-13-733627   \n",
       "5                  02/08/2011         11-12-441177   \n",
       "7                  10/25/2011         11-12-664737   \n",
       "\n",
       "             Numero de Proceso  \\\n",
       "2  Minima Cuantia CAE-056-2011   \n",
       "5               2010-CF-20-055   \n",
       "7                  RV-CPTA-018   \n",
       "\n",
       "                         ...                          \\\n",
       "2                        ...                           \n",
       "5                        ...                           \n",
       "7                        ...                           \n",
       "\n",
       "  Tipo Doc Representante Legal Identific del Represen Legal  \\\n",
       "2         Cédula de Ciudadanía                  51.704.665.   \n",
       "5         Cédula de Ciudadanía                     71112075   \n",
       "7         Cédula de Ciudadanía                   17.339.685   \n",
       "\n",
       "          Nombre del Represen Legal Plazo de Ejec del Contrato  \\\n",
       "2         MARIA ELENA CALDAS GOMEZ.                        2.0   \n",
       "5       JOAQUIN DARIO DUQUE ZULUAGA                        8.0   \n",
       "7  HEBERT DANILO DOMINGUEZ CESPEDES                        5.0   \n",
       "\n",
       "   Rango de Ejec del Contrato Tiempo Adiciones en Dias  \\\n",
       "2                           D                        0   \n",
       "5                           M                        0   \n",
       "7                           M                        0   \n",
       "\n",
       "   Tiempo Adiciones en Meses Compromiso Presupuestal  Cuantia Contrato  \\\n",
       "2                          0             No registra        30351400.0   \n",
       "5                          0             No registra       200000000.0   \n",
       "7                          0             No registra        14479404.0   \n",
       "\n",
       "  Valor Total de Adiciones Valor Contrato con Adiciones  \\\n",
       "2                    $0.00                   30351400.0   \n",
       "5                    $0.00                  200000000.0   \n",
       "7                    $0.00                   14479404.0   \n",
       "\n",
       "                      Objeto del Contrato a la Firma  \\\n",
       "2  Contratar la compra de materiales de formacion...   \n",
       "5  MANTENIMIENTO Y EL MEJORAMIENTO DE LAS VÍAS TE...   \n",
       "7  Prestar sus servicios de carácter temporal com...   \n",
       "\n",
       "  ID Origen de los Recursos Origen de los Recursos Codigo BPIN  \\\n",
       "2                         0            No definido          -1   \n",
       "5                         0            No definido          -1   \n",
       "7                         0            No definido          -1   \n",
       "\n",
       "  Proponentes Seleccionados  Calificacion Definitiva ID Sub Unidad Ejecutora  \\\n",
       "2               No definido              No definido                       0   \n",
       "5               No definido              No definido                       0   \n",
       "7               No definido              No definido                       0   \n",
       "\n",
       "   Nombre Sub Unidad Ejecutora  \\\n",
       "2                  No definida   \n",
       "5                  No definida   \n",
       "7                  No definida   \n",
       "\n",
       "                             Ruta Proceso en SECOP I  \n",
       "2  https://www.contratos.gov.co/consultas/detalle...  \n",
       "5  https://www.contratos.gov.co/consultas/detalle...  \n",
       "7  https://www.contratos.gov.co/consultas/detalle...  \n",
       "\n",
       "[3 rows x 53 columns]"
      ]
     },
     "execution_count": 45,
     "metadata": {},
     "output_type": "execute_result"
    }
   ],
   "source": [
    "secop.head(3)"
   ]
  },
  {
   "cell_type": "markdown",
   "metadata": {},
   "source": [
    "### Verificacion que el nombre sea unico para ID o NIT"
   ]
  },
  {
   "cell_type": "code",
   "execution_count": 47,
   "metadata": {
    "collapsed": false
   },
   "outputs": [],
   "source": [
    "group_contratante = secop.groupby('NIT de la Entidad')['NIT de la Entidad'].unique()\n",
    "VariosNombres_NIT = group_contratante[group_contratante.apply(lambda x: len(x)>1)] "
   ]
  },
  {
   "cell_type": "code",
   "execution_count": 48,
   "metadata": {
    "collapsed": false
   },
   "outputs": [
    {
     "data": {
      "text/plain": [
       "Series([], Name: NIT de la Entidad, dtype: object)"
      ]
     },
     "execution_count": 48,
     "metadata": {},
     "output_type": "execute_result"
    }
   ],
   "source": [
    "VariosNombres_NIT"
   ]
  },
  {
   "cell_type": "code",
   "execution_count": 49,
   "metadata": {
    "collapsed": false
   },
   "outputs": [
    {
     "data": {
      "text/plain": [
       "(0,)"
      ]
     },
     "execution_count": 49,
     "metadata": {},
     "output_type": "execute_result"
    }
   ],
   "source": [
    "VariosNombres_NIT.shape"
   ]
  },
  {
   "cell_type": "code",
   "execution_count": 51,
   "metadata": {
    "collapsed": false
   },
   "outputs": [],
   "source": [
    "#Un ejemplo:\n",
    "#print (VariosNombres_NIT.index[123])\n",
    "#print (VariosNombres_NIT[123])"
   ]
  },
  {
   "cell_type": "code",
   "execution_count": 52,
   "metadata": {
    "collapsed": true
   },
   "outputs": [],
   "source": [
    "group_Contratista = secop.groupby('Identificacion del Contratista')['Nom Raz Social Contratista'].unique()\n",
    "VariosNombres_IDContratista = group_Contratista[group_Contratista.apply(lambda x: len(x)>1)] "
   ]
  },
  {
   "cell_type": "code",
   "execution_count": 53,
   "metadata": {
    "collapsed": false
   },
   "outputs": [
    {
     "data": {
      "text/plain": [
       "Identificacion del Contratista\n",
       "0                  [DOTACION INTEGRAL S.A.S., IMPRESOS MEGACOLOR,...\n",
       "000                              [MOODY´S ANALYTICS INC, SIN NOMBRE]\n",
       "0000               [EUROMONEY TRADING LIMITED, GESTIÓN Y TALENTO ...\n",
       "000000             [FONDO DE CRÉDITO PARA ESTUDIOS EN EL EXTERIOR...\n",
       "0000000                          [SIN NOMBRE, CONTRATO NO CEELBRADO]\n",
       "000000400242117                [DOTACONES BOYACA, DOTACIONES BOYACA]\n",
       "000000424964756    [FABIOLA ESTHER DAZA PABON / LEONARDO GOMEZ MO...\n",
       "00129679212         [ANDINA DE LLANTAS PRINCIPAL, ANDINA DE LLANTAS]\n",
       "00129895941        [FERROVARIEDADES CARTAGENA, JUAN CARLOS PARDO ...\n",
       "05576291008        [SELEX SISTEMI INTEGRATI S.p.A., SELEX SISTEMI...\n",
       "08000212729        [GASES DEL LLANO S.A. E.S.P., LLANOGAS S.A. E....\n",
       "08000521690        [EDITORIAL AGUASCLARAS S.A, EDITORIAL AGUAS CL...\n",
       "08001957235                [Fusión F&G SAS, FUSION F & G y CIA LTDA]\n",
       "08002118011        [ACUASEO DE PEREIRA, COMPAÑÍA DE SERVICIOS PUB...\n",
       "08002536164        [COMPUTADORES DE LA COSTA LTDA, COMPUTADORES D...\n",
       "08090012726        [TELEFÓNICA PANASONIC LTDA, TELEFONICA PANASON...\n",
       "08090110224                       [ARTESCO S.A, ARTESCO SA, ARTESCO]\n",
       "08100037823                                   [AZUL S.A., azul s.a.]\n",
       "08100047749        [Julio Cesar Ocampo López / Outsourcing Comerc...\n",
       "08110281446                           [AL-MAXIMO S.A, ALMAXIMO S.A.]\n",
       "08120064679        [empresas publicas municipales de buenavista, ...\n",
       "08130052410        [INCINERADOS DEL HUILA S.A E.S.P., INCINERADOS...\n",
       "08170040779        [SUMINISTROS TRAUMATOLÓGICOS DE COLOMBIA S.A.S...\n",
       "08200055808        [ESTACIÓN DE SERVICIOS EL PROGRESO  E.U., ESTA...\n",
       "08220032224        [PROSOFT E.A.T., PROSOFT  EMPRESA  ASOCIATIVA ...\n",
       "08220044605                [NIX TRACTOR META, NIX-TRACTOR META E.U.]\n",
       "08230015982        [MILENIO LTDA ASESORES DE SEGURO, MILENIO CIA ...\n",
       "08230047359        [H.J SERVICIOS INTEGRALES DE INGENIERIA Y ARQU...\n",
       "08240011263        [INGENIERIA SOFTWARE & COMPUTADORES., INGENIER...\n",
       "08260023215        [DEPOSITO DE MATERIAES FERRETERIA Y ELECTRICOS...\n",
       "                                         ...                        \n",
       "98638686           [Mauricio Andres Matinez Duque, MAURICIO ANDRE...\n",
       "98639809           [JUAN MANUEL SUAREZ OSORIO, UNION TEMPORAL ACU...\n",
       "98643152                  [EDWIN ALEXIS CORREA AGUDELO, LIDER PRINT]\n",
       "98646294           [JHONY ALEXIS PORTELLA MORALES, JOHNY ALEXIS P...\n",
       "98650618           [WILSON FERNEY AGUDELO MUÑOZ, WILSON FERNEY AG...\n",
       "986535095            [JUAN PABLO PEREZ RICO, JUAN CARLOS PEREZ RICO]\n",
       "98657797           [MILLER GONZALES RAMIREZ, MILLER GONZALEZ RAMI...\n",
       "98658837           [MARIO ALONSO RESTREPO VELEZ, MARIO RESTREPO V...\n",
       "98659035           [DIEGO LEÓN LÓPEZ CORREA, Diego León Loperz Co...\n",
       "98662195           [ALEJANDRO JOSE ARROYAVE MONSALVE, ALEJANDRO J...\n",
       "98663915           [HECTOR FABIAN ARROYAVE SANCHEZ, HÉCTOR FABIÁN...\n",
       "98664381           [ANDRÉS FELIPE BUSTAMANTE  LONDOÑO, ANDRES FEL...\n",
       "98666611           [JHON FABER VELEZ MONSALVE, JOHN FABER VELEZ M...\n",
       "98669975           [sergio andres franco arango, SERGIO ANDRES FR...\n",
       "9867124            [juan alejandro gomez lopez, JUAB ALEJANDRO GO...\n",
       "98671446            [ALEXANDER GÒMEZ PAREJA, ALEXANDER GOMEZ PAREJA]\n",
       "9869076            [JUAN CAMILO HOYOS OSORIO, JUAN CAMILO HOYOS O...\n",
       "98694657           [ÉLVER ANDRÉS LEDESMA CASTAÑEDA, ELVER ANDRES ...\n",
       "98695279           [CARLOS ARMANDO ZAPATA MONTOYA, Carlos Armando...\n",
       "98698076           [YHOAN ARLEY AGUDELO HIGUITA, YHOAN ARLEY AGUD...\n",
       "98710816           [ALBERTH JHONATHAN GÓMEZ HENAO, ALBERTH JHONAT...\n",
       "98716363           [MARIA MARLENE RESTREPO CARDONA, JUAN FELIPE R...\n",
       "9873089                    [Andrés Felipe aristizabal Toro, 9873089]\n",
       "98778726           [FERNEY GARCÌA RODRÌGUEZ, FERNEY GARCIA RODRIG...\n",
       "990628             [FELIX NAPOLEÓN PALACIO STEPHENS, FELIX NAPOLE...\n",
       "9906281            [FELIX NAPOLEON PALACIO STEPHENS, estacion de ...\n",
       "991904             [GEDDIS NEWBAL HOOKER, gedis newball, GUEDIS N...\n",
       "9920660            [dario valencia uribe, dario valencia uribe u ...\n",
       "9923746            [NELSON ANDRES ALZATE CUERVO, PAPIRUS.COM/ NEL...\n",
       "9976894            [JAIME ALBERTO DIAZ GONZALEZ, JAIME ALBERTO DU...\n",
       "Name: Nom Raz Social Contratista, dtype: object"
      ]
     },
     "execution_count": 53,
     "metadata": {},
     "output_type": "execute_result"
    }
   ],
   "source": [
    "VariosNombres_IDContratista"
   ]
  },
  {
   "cell_type": "code",
   "execution_count": 54,
   "metadata": {
    "collapsed": false
   },
   "outputs": [
    {
     "name": "stdout",
     "output_type": "stream",
     "text": [
      "0\n",
      "['DOTACION INTEGRAL S.A.S.' 'IMPRESOS MEGACOLOR'\n",
      " 'PROCESO DECLARADO DESIERTO' 'CONFECAMARAS' 'MUNICIPIO DE COYAIMA'\n",
      " 'CLAUDIA PATRICIA CAICEDO MARTINEZ' 'DISTRACOM S.A'\n",
      " 'A.B. SEÑALIZACION SAS' 'CESAR AUGUSTO OSORIO CLAVIJO' 'ARTESCO S.A.'\n",
      " 'CONSORCIO TUPAC RAMPAS COMUNA 5' 'FUNDACION JOPRAC'\n",
      " 'BANCO INTERAMERICANO DE DESARROLLO BID' 'CONSORCIO GUAMAL 2011' '0'\n",
      " 'TRANSPORTES ESPECIALES FSG E.U.'\n",
      " 'PERSONERÍA MUNICIPAL DE LA DORADA CALDAS' 'No aplica' 'DESIERTO' '-'\n",
      " 'AMOBLAR MUEBLES Y OFICINAS' 'YINETH BUSTILLO PARRA'\n",
      " 'SENICA REFRIGERACION Y AIRE ACONDICIONADO'\n",
      " 'TERMALES DE SANTA ROSA DE CABAL' 'JUAN DE DIOS NIETO MANCILLA'\n",
      " 'RESGUARDO INDIGENA PIJAO TOTARCO TAMARINDO MPIO COYAIMA'\n",
      " 'ALMACEN VETERINARIO EL GRANJERO' 'DISTRACOM S. A'\n",
      " 'CORPORACION DE COMUNICACIONES PARA EL DESARROLLO DE ENTRERRIOS'\n",
      " 'CONSORCIO ARCALIA AULAS 06' 'EL CIENTIFICO LOCO'\n",
      " 'UNIÓN  TEMPORAL  VIAS  ARBOLETES  2011' 'CARLOS MANUEL WANDURRAGA BARON'\n",
      " 'PROVEER INSTITUTO S.A.S.']\n",
      "34\n"
     ]
    }
   ],
   "source": [
    "#El primero parece ser un caso especial\n",
    "print (VariosNombres_IDContratista.index[0])\n",
    "print (VariosNombres_IDContratista[0])\n",
    "print (len(VariosNombres_IDContratista[0]))"
   ]
  },
  {
   "cell_type": "code",
   "execution_count": 63,
   "metadata": {
    "collapsed": false
   },
   "outputs": [],
   "source": [
    "#El resto si parecen ser nombres repetidos para un ID, un ejemplo:\n",
    "#print (VariosNombres_IDContratista.index[5])\n",
    "#print (VariosNombres_IDContratista[5])"
   ]
  },
  {
   "cell_type": "code",
   "execution_count": 64,
   "metadata": {
    "collapsed": false
   },
   "outputs": [],
   "source": [
    "#Obtenemos la lista con solo uno de los nombres para estos\n",
    "VariosNombres_IDContratista_new_values = [item_array[0] for item_array in VariosNombres_IDContratista]"
   ]
  },
  {
   "cell_type": "code",
   "execution_count": 65,
   "metadata": {
    "collapsed": false
   },
   "outputs": [],
   "source": [
    "VariosNombres_IDContratista[:] = VariosNombres_IDContratista_new_values"
   ]
  },
  {
   "cell_type": "code",
   "execution_count": 67,
   "metadata": {
    "collapsed": false
   },
   "outputs": [],
   "source": [
    "#print (VariosNombres_IDContratista.index[8])\n",
    "#print (VariosNombres_IDContratista[8])"
   ]
  },
  {
   "cell_type": "code",
   "execution_count": 68,
   "metadata": {
    "collapsed": false
   },
   "outputs": [
    {
     "data": {
      "text/plain": [
       "(14010,)"
      ]
     },
     "execution_count": 68,
     "metadata": {},
     "output_type": "execute_result"
    }
   ],
   "source": [
    "VariosNombres_IDContratista.shape"
   ]
  },
  {
   "cell_type": "markdown",
   "metadata": {},
   "source": [
    "#### Acciones a tomar\n",
    "<p>Podemos ver que hay 322 Entidades Contratantes cono NIT identico. </p>\n",
    "<p>A veces tiene sentido, al ser del mismo municipio, a veces no, al ser de municipios distintos.</p>\n",
    "<p>Del lado del contratatistas, parecen haber 347 que estan entre invalidos o con Identificacion 0 (lo cual es sospechoso)</p>\n",
    "<p>Hay, 136341 otros casos de identificacion repetida para el contratista, estos parecen ser errores de ortografia entre una o dos entradas.</p>\n",
    "\n",
    "Vamos a:\n",
    "1. Eliminar las entradas que comprendan los 347 contratistas con ID 0 y eliminar las 322 entidades contratantes en donde se repite nombre por NIT.\n",
    "2. Reemplazar para los otros 136341 casos con idetificacion de contratista repetido por el primer nombre del subconjunto obtenido."
   ]
  },
  {
   "cell_type": "code",
   "execution_count": 69,
   "metadata": {
    "collapsed": false
   },
   "outputs": [
    {
     "data": {
      "text/plain": [
       "(161670, 53)"
      ]
     },
     "execution_count": 69,
     "metadata": {},
     "output_type": "execute_result"
    }
   ],
   "source": [
    "#Numero actual de entradas\n",
    "secop.shape"
   ]
  },
  {
   "cell_type": "code",
   "execution_count": 73,
   "metadata": {
    "collapsed": false
   },
   "outputs": [
    {
     "name": "stdout",
     "output_type": "stream",
     "text": [
      "0\n",
      "0\n"
     ]
    }
   ],
   "source": [
    "#Nits y IDs a eliminar\n",
    "NIT_to_drop = VariosNombres_NIT.index\n",
    "ID_to_drop = VariosNombres_IDContratista.index[0] #Para el ID solo se borraria el primero\n",
    "print (ID_to_drop)\n",
    "print (len(NIT_to_drop))"
   ]
  },
  {
   "cell_type": "code",
   "execution_count": 74,
   "metadata": {
    "collapsed": false
   },
   "outputs": [],
   "source": [
    "#Indices a eliminar \n",
    "if(len(NIT_to_drop)>0):\n",
    "    Indexes_NIT_to_drop = secop[secop['NIT de la Entidad Contratante'].isin(NIT_to_drop)].index.tolist()\n",
    "    Indexes_ID_to_drop_values = secop[secop['Identificacion del Contratista'] == ID_to_drop].index.tolist()\n",
    "    print (len(Indexes_NIT_to_drop))\n",
    "    print (len(Indexes_ID_to_drop_values))\n",
    "    print (len(Indexes_NIT_to_drop)+len(Indexes_ID_to_drop_values))"
   ]
  },
  {
   "cell_type": "code",
   "execution_count": 75,
   "metadata": {
    "collapsed": false
   },
   "outputs": [],
   "source": [
    "#Quitamos el primer elemento, que corresponde al ID 0\n",
    "VariosNombres_IDContratista = VariosNombres_IDContratista.drop(VariosNombres_IDContratista.index[0])"
   ]
  },
  {
   "cell_type": "code",
   "execution_count": 76,
   "metadata": {
    "collapsed": true
   },
   "outputs": [],
   "source": [
    "VariosNombres_IDContratista_copy = VariosNombres_IDContratista.copy()"
   ]
  },
  {
   "cell_type": "code",
   "execution_count": 77,
   "metadata": {
    "collapsed": false
   },
   "outputs": [],
   "source": [
    "v_frame = VariosNombres_IDContratista_copy.to_frame()"
   ]
  },
  {
   "cell_type": "code",
   "execution_count": 78,
   "metadata": {
    "collapsed": false
   },
   "outputs": [
    {
     "data": {
      "text/html": [
       "<div>\n",
       "<table border=\"1\" class=\"dataframe\">\n",
       "  <thead>\n",
       "    <tr style=\"text-align: right;\">\n",
       "      <th></th>\n",
       "      <th>Nom Raz Social Contratista</th>\n",
       "    </tr>\n",
       "    <tr>\n",
       "      <th>Identificacion del Contratista</th>\n",
       "      <th></th>\n",
       "    </tr>\n",
       "  </thead>\n",
       "  <tbody>\n",
       "    <tr>\n",
       "      <th>000</th>\n",
       "      <td>MOODY´S ANALYTICS INC</td>\n",
       "    </tr>\n",
       "    <tr>\n",
       "      <th>0000</th>\n",
       "      <td>EUROMONEY TRADING LIMITED</td>\n",
       "    </tr>\n",
       "  </tbody>\n",
       "</table>\n",
       "</div>"
      ],
      "text/plain": [
       "                               Nom Raz Social Contratista\n",
       "Identificacion del Contratista                           \n",
       "000                                 MOODY´S ANALYTICS INC\n",
       "0000                            EUROMONEY TRADING LIMITED"
      ]
     },
     "execution_count": 78,
     "metadata": {},
     "output_type": "execute_result"
    }
   ],
   "source": [
    "v_frame.head(2)"
   ]
  },
  {
   "cell_type": "code",
   "execution_count": 79,
   "metadata": {
    "collapsed": true
   },
   "outputs": [],
   "source": [
    "v_frame['Identificacion del Contratista'] = v_frame.index"
   ]
  },
  {
   "cell_type": "code",
   "execution_count": 80,
   "metadata": {
    "collapsed": false
   },
   "outputs": [
    {
     "data": {
      "text/html": [
       "<div>\n",
       "<table border=\"1\" class=\"dataframe\">\n",
       "  <thead>\n",
       "    <tr style=\"text-align: right;\">\n",
       "      <th></th>\n",
       "      <th>Nom Raz Social Contratista</th>\n",
       "      <th>Identificacion del Contratista</th>\n",
       "    </tr>\n",
       "    <tr>\n",
       "      <th>Identificacion del Contratista</th>\n",
       "      <th></th>\n",
       "      <th></th>\n",
       "    </tr>\n",
       "  </thead>\n",
       "  <tbody>\n",
       "    <tr>\n",
       "      <th>000</th>\n",
       "      <td>MOODY´S ANALYTICS INC</td>\n",
       "      <td>000</td>\n",
       "    </tr>\n",
       "    <tr>\n",
       "      <th>0000</th>\n",
       "      <td>EUROMONEY TRADING LIMITED</td>\n",
       "      <td>0000</td>\n",
       "    </tr>\n",
       "  </tbody>\n",
       "</table>\n",
       "</div>"
      ],
      "text/plain": [
       "                               Nom Raz Social Contratista  \\\n",
       "Identificacion del Contratista                              \n",
       "000                                 MOODY´S ANALYTICS INC   \n",
       "0000                            EUROMONEY TRADING LIMITED   \n",
       "\n",
       "                               Identificacion del Contratista  \n",
       "Identificacion del Contratista                                 \n",
       "000                                                       000  \n",
       "0000                                                     0000  "
      ]
     },
     "execution_count": 80,
     "metadata": {},
     "output_type": "execute_result"
    }
   ],
   "source": [
    "v_frame.head(2)"
   ]
  },
  {
   "cell_type": "code",
   "execution_count": 81,
   "metadata": {
    "collapsed": true
   },
   "outputs": [],
   "source": [
    "x1 = secop.set_index(['Identificacion del Contratista'])['Nom Raz Social Contratista']\n",
    "x2 = v_frame.set_index(['Identificacion del Contratista'])['Nom Raz Social Contratista']\n",
    "# call update function, this is inplace\n",
    "x1.update(x2)"
   ]
  },
  {
   "cell_type": "code",
   "execution_count": 82,
   "metadata": {
    "collapsed": true
   },
   "outputs": [],
   "source": [
    "# replace the values in original df1\n",
    "secop['Nom Raz Social Contratista'] = x1.values"
   ]
  },
  {
   "cell_type": "code",
   "execution_count": 83,
   "metadata": {
    "collapsed": false
   },
   "outputs": [
    {
     "data": {
      "text/plain": [
       "2                                        AUTOOLS LTDA .\n",
       "5                                  EL CARMEN DE VIBORAL\n",
       "7                      HEBERT DANILO DOMINGUEZ CESPEDES\n",
       "8                               SERVICENTRO ZEUS SALGAR\n",
       "11                        GISELLA JOHANA ANGULO AGUIRRE\n",
       "12                          GRACIELA MARINA REINA VILLA\n",
       "13                                    C y M consultores\n",
       "14                                MUNICIPIO DE BUSBANZA\n",
       "15                     JUVENAL ALEXANDER PALACIO CHAMAT\n",
       "17                               HECTOR MARIO CAMPUZANO\n",
       "18                            FLORA DILIA MARTINEZ BACA\n",
       "20                            AGROMAQUINARIAS DEL LLANO\n",
       "22                                  ARI JOSE PIEDRAHITA\n",
       "25              CAJA DE COMPENSACION FAMILIAR DEL CAUCA\n",
       "26                                      JAIRO RODRIGUEZ\n",
       "29                               JEFFER ROBLES GONZALEZ\n",
       "31    MEDIAGNOSTICA TECMEDI TECNOLOGÍA MÉDICA DIAGNO...\n",
       "32                LA PREVISORA S.A. COMPAÑIA DE SEGUROS\n",
       "35                         MURCIA MURCIA JHON ALEJANDRO\n",
       "36    FUNDACION SOCIAL PARA EL DESARROLLO CULTURA TE...\n",
       "Name: Nom Raz Social Contratista, dtype: object"
      ]
     },
     "execution_count": 83,
     "metadata": {},
     "output_type": "execute_result"
    }
   ],
   "source": [
    "secop.head(20)['Nom Raz Social Contratista']"
   ]
  },
  {
   "cell_type": "code",
   "execution_count": 84,
   "metadata": {
    "collapsed": true
   },
   "outputs": [],
   "source": [
    "group_Contratista = secop.groupby('Identificacion del Contratista')['Nom Raz Social Contratista'].unique()\n",
    "VariosNombres_IDContratista = group_Contratista[group_Contratista.apply(lambda x: len(x)>1)] "
   ]
  },
  {
   "cell_type": "code",
   "execution_count": 85,
   "metadata": {
    "collapsed": false
   },
   "outputs": [
    {
     "data": {
      "text/plain": [
       "Identificacion del Contratista\n",
       "0    [DOTACION INTEGRAL S.A.S., IMPRESOS MEGACOLOR,...\n",
       "Name: Nom Raz Social Contratista, dtype: object"
      ]
     },
     "execution_count": 85,
     "metadata": {},
     "output_type": "execute_result"
    }
   ],
   "source": [
    "VariosNombres_IDContratista"
   ]
  },
  {
   "cell_type": "code",
   "execution_count": 86,
   "metadata": {
    "collapsed": true
   },
   "outputs": [],
   "source": [
    "#Eliminar las otras entradas\n",
    "secop = secop.drop(secop[secop['Identificacion del Contratista'] == ID_to_drop].index)"
   ]
  },
  {
   "cell_type": "code",
   "execution_count": 87,
   "metadata": {
    "collapsed": true
   },
   "outputs": [],
   "source": [
    "secop = secop.drop(secop[secop['NIT de la Entidad'].isin(NIT_to_drop)].index)"
   ]
  },
  {
   "cell_type": "code",
   "execution_count": 88,
   "metadata": {
    "collapsed": false
   },
   "outputs": [
    {
     "data": {
      "text/plain": [
       "(161636, 53)"
      ]
     },
     "execution_count": 88,
     "metadata": {},
     "output_type": "execute_result"
    }
   ],
   "source": [
    "secop.shape"
   ]
  },
  {
   "cell_type": "markdown",
   "metadata": {},
   "source": [
    "## Crear nuevo archivo"
   ]
  },
  {
   "cell_type": "code",
   "execution_count": 89,
   "metadata": {
    "collapsed": true
   },
   "outputs": [],
   "source": [
    "secop.to_csv(archivo_datos_limpio, encoding='utf-8')\n",
    "#profile = pandas_profiling.ProfileReport(secop)\n",
    "#profile.to_file(outputfile=perfilamiento_datos_limpios)\n",
    "%xdel secop"
   ]
  }
 ],
 "metadata": {
  "anaconda-cloud": {},
  "kernelspec": {
   "display_name": "Python 3",
   "language": "python",
   "name": "python3"
  },
  "language_info": {
   "codemirror_mode": {
    "name": "ipython",
    "version": 3
   },
   "file_extension": ".py",
   "mimetype": "text/x-python",
   "name": "python",
   "nbconvert_exporter": "python",
   "pygments_lexer": "ipython3",
   "version": "3.4.3"
  }
 },
 "nbformat": 4,
 "nbformat_minor": 0
}
